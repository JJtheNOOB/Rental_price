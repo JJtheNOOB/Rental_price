{
 "cells": [
  {
   "cell_type": "code",
   "execution_count": 1,
   "metadata": {},
   "outputs": [],
   "source": [
    "from bs4 import BeautifulSoup\n",
    "from requests import get"
   ]
  },
  {
   "cell_type": "code",
   "execution_count": 2,
   "metadata": {},
   "outputs": [],
   "source": [
    "#Let website think that we are actual user\n",
    "headers = ({'User-Agent':\n",
    "            'Mozilla/5.0 (Windows NT 6.1) AppleWebKit/537.36 (KHTML, like Gecko) Chrome/41.0.2228.0 Safari/537.36'})"
   ]
  },
  {
   "cell_type": "code",
   "execution_count": 3,
   "metadata": {},
   "outputs": [],
   "source": [
    "#Sample rentals.ca website\n",
    "rentals = \"https://rentals.ca/toronto/bay-street-corridor?types=condo&types=apartment&beds=1%2B&pets=false&bbox=-79.39842,43.63732,-79.35868,43.65673&active-listing-id=328761\""
   ]
  },
  {
   "cell_type": "code",
   "execution_count": 4,
   "metadata": {},
   "outputs": [
    {
     "name": "stdout",
     "output_type": "stream",
     "text": [
      "<Response [200]>\n"
     ]
    }
   ],
   "source": [
    "response = get(rentals, headers=headers)\n",
    "#200 is a good response\n",
    "print(response)"
   ]
  },
  {
   "cell_type": "code",
   "execution_count": 5,
   "metadata": {},
   "outputs": [
    {
     "name": "stdout",
     "output_type": "stream",
     "text": [
      "<!doctype html>\n",
      "\n",
      "\n",
      "\n",
      "\n",
      "\n",
      "<html lang=\"en\">\n",
      "\n",
      "<head>\n",
      "  <meta charset=\"utf-8\">\n",
      "\n",
      "  \n",
      "\n",
      "<link rel=\"preconnect\" href=\"https://use.typekit.net\">\n",
      "<link rel=\"preconnect\" href=\"https://images.rentals.ca\">\n",
      "<link rel=\"preconnect\" href=\"https://fonts.googleapis.com\">\n",
      "<link rel=\"preconnect\" href=\"https://maps.googleapis.com\">\n",
      "<link rel=\"preconnect\" href=\"https://maps.gstatic.com\">\n",
      "<link rel=\"preconnect\" href=\"https://www.google-analytics.com\">\n",
      "<link rel=\"preconnect\" href=\"https://s7.addthis.com\">\n",
      "<link rel=\"preconnect\" href=\"https://cdnjs.cloudflare.com\">\n",
      "<link rel=\"preconnect\" href=\"https://static.hotjar.com\">\n",
      "<link rel=\"preconnect\" href=\"https://script.hotjar.com\">\n",
      "<link rel=\"preconnect\" href=\"https://vars.hotjar.com\">\n",
      "<link rel=\"preconnect\" href=\"https://cdn.sift.com\">\n",
      "<link rel=\"preconnect\" href=\"https://hexagon-analytics.com\">\n",
      "<link rel=\"preconnect\" href=\"https://analytics.trovit.com\">\n",
      "\n",
      "<link rel=\"preload\" as=\"script\" href=\"/static/rentalsca-phoenix/js/app.a5cc35a02ae9.js\">\n",
      "\n",
      "\n",
      "  <meta http-equiv=\"x-ua-\n"
     ]
    }
   ],
   "source": [
    "print(response.text[:1000])"
   ]
  },
  {
   "cell_type": "code",
   "execution_count": 6,
   "metadata": {},
   "outputs": [],
   "source": [
    "html_soup = BeautifulSoup(response.text, 'html.parser')\n",
    "\n",
    "all_script = html_soup.find_all('script')\n",
    "\n",
    "json_list = []\n",
    "for item in all_script:\n",
    "    if str(item).startswith('''<script type=\"applic'''):\n",
    "        json_list.append(str(item))"
   ]
  },
  {
   "cell_type": "code",
   "execution_count": 7,
   "metadata": {},
   "outputs": [],
   "source": [
    "dic = {'name':[], 'price': [], 'latitude': [], 'longitude': [], 'url': []}\n",
    "i = 1\n",
    "j = 1\n",
    "for words in json_list[2].split('\\n'):\n",
    "    if words.strip()[:6] == '''\"name\"''' and i == 1:\n",
    "        dic['name'].append(words.strip()[7:-1].strip().strip('\\\"'))\n",
    "        i += 1\n",
    "    if words.strip()[:7] == '''\"price\"''':\n",
    "        dic['price'].append(float(words.strip()[8:].strip()[:-1]))\n",
    "    if words.strip()[:10] == '''\"latitude\"''':\n",
    "        dic['latitude'].append(float(words.strip()[11:].strip()[:-1]))\n",
    "    if words.strip()[:11] == '''\"longitude\"''':\n",
    "        dic['longitude'].append(float(words.strip()[12:].strip()[:-1]))\n",
    "    if words.strip()[:5] == '''\"url\"''' and j == 1:\n",
    "        dic['url'].append(words.strip()[6:-1].strip().strip('\\\"'))\n",
    "        j += 1"
   ]
  },
  {
   "cell_type": "code",
   "execution_count": 8,
   "metadata": {},
   "outputs": [
    {
     "data": {
      "text/plain": [
       "{'name': ['111 Elizabeth Street'],\n",
       " 'price': [2400.0],\n",
       " 'latitude': [43.6550554],\n",
       " 'longitude': [-79.384721],\n",
       " 'url': ['https://rentals.ca/toronto/87-greenwood-avenue']}"
      ]
     },
     "execution_count": 8,
     "metadata": {},
     "output_type": "execute_result"
    }
   ],
   "source": [
    "dic"
   ]
  },
  {
   "cell_type": "code",
   "execution_count": null,
   "metadata": {},
   "outputs": [],
   "source": []
  }
 ],
 "metadata": {
  "kernelspec": {
   "display_name": "Python 3",
   "language": "python",
   "name": "python3"
  },
  "language_info": {
   "codemirror_mode": {
    "name": "ipython",
    "version": 3
   },
   "file_extension": ".py",
   "mimetype": "text/x-python",
   "name": "python",
   "nbconvert_exporter": "python",
   "pygments_lexer": "ipython3",
   "version": "3.7.3"
  }
 },
 "nbformat": 4,
 "nbformat_minor": 2
}
