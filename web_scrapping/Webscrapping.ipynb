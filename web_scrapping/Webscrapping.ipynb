{
 "cells": [
  {
   "cell_type": "code",
   "execution_count": 1,
   "metadata": {},
   "outputs": [],
   "source": [
    "from bs4 import BeautifulSoup\n",
    "from requests import get"
   ]
  },
  {
   "cell_type": "code",
   "execution_count": 2,
   "metadata": {},
   "outputs": [],
   "source": [
    "#Let website think that we are actual user\n",
    "headers = ({'User-Agent':\n",
    "            'Mozilla/5.0 (Windows NT 6.1) AppleWebKit/537.36 (KHTML, like Gecko) Chrome/41.0.2228.0 Safari/537.36'})"
   ]
  },
  {
   "cell_type": "code",
   "execution_count": 76,
   "metadata": {},
   "outputs": [],
   "source": [
    "#Sample rentals.ca website\n",
    "rentals = \"https://rentals.ca/toronto?p=3\""
   ]
  },
  {
   "cell_type": "code",
   "execution_count": 77,
   "metadata": {},
   "outputs": [
    {
     "name": "stdout",
     "output_type": "stream",
     "text": [
      "<Response [200]>\n"
     ]
    }
   ],
   "source": [
    "response = get(rentals, headers=headers)\n",
    "#200 is a good response\n",
    "print(response)"
   ]
  },
  {
   "cell_type": "code",
   "execution_count": 78,
   "metadata": {},
   "outputs": [
    {
     "name": "stdout",
     "output_type": "stream",
     "text": [
      "<!doctype html>\n",
      "\n",
      "\n",
      "\n",
      "\n",
      "\n",
      "<html lang=\"en\">\n",
      "\n",
      "<head>\n",
      "  <meta charset=\"utf-8\">\n",
      "\n",
      "  \n",
      "\n",
      "<link rel=\"preconnect\" href=\"https://use.typekit.net\">\n",
      "<link rel=\"preconnect\" href=\"https://images.rentals.ca\">\n",
      "<link rel=\"preconnect\" href=\"https://fonts.googleapis.com\">\n",
      "<link rel=\"preconnect\" href=\"https://maps.googleapis.com\">\n",
      "<link rel=\"preconnect\" href=\"https://maps.gstatic.com\">\n",
      "<link rel=\"preconnect\" href=\"https://www.google-analytics.com\">\n",
      "<link rel=\"preconnect\" href=\"https://s7.addthis.com\">\n",
      "<link rel=\"preconnect\" href=\"https://cdnjs.cloudflare.com\">\n",
      "<link rel=\"preconnect\" href=\"https://static.hotjar.com\">\n",
      "<link rel=\"preconnect\" href=\"https://script.hotjar.com\">\n",
      "<link rel=\"preconnect\" href=\"https://vars.hotjar.com\">\n",
      "<link rel=\"preconnect\" href=\"https://cdn.sift.com\">\n",
      "<link rel=\"preconnect\" href=\"https://hexagon-analytics.com\">\n",
      "<link rel=\"preconnect\" href=\"https://analytics.trovit.com\">\n",
      "\n",
      "<link rel=\"preload\" as=\"script\" href=\"/static/rentalsca-phoenix/js/app.a5cc35a02ae9.js\">\n",
      "\n",
      "\n",
      "  <meta http-equiv=\"x-ua-\n"
     ]
    }
   ],
   "source": [
    "print(response.text[:1000])"
   ]
  },
  {
   "cell_type": "code",
   "execution_count": 79,
   "metadata": {},
   "outputs": [],
   "source": [
    "html_soup = BeautifulSoup(response.text, 'html.parser')\n",
    "\n",
    "all_script = html_soup.find_all('script')\n",
    "\n",
    "json_list = []\n",
    "for item in all_script:\n",
    "    if str(item).startswith('''<script type=\"applic'''):\n",
    "        json_list.append(str(item))"
   ]
  },
  {
   "cell_type": "code",
   "execution_count": 80,
   "metadata": {},
   "outputs": [],
   "source": [
    "dic = {'name':[], 'price': [], 'latitude': [], 'longitude': [], 'url': [], 'location': [], 'room_type': []}\n",
    "for item in json_list:\n",
    "    i = 1\n",
    "    j = 1\n",
    "    temp_room_type = []\n",
    "    temp_price = []\n",
    "    for words in item.split('\\n'):\n",
    "        if words.strip()[:6] == '''\"name\"''':\n",
    "            if i == 1:\n",
    "                dic['name'].append(words.strip()[7:-1].strip().strip('\\\"'))\n",
    "                i += 1\n",
    "            elif i == 2:\n",
    "                dic['location'].append(''.join(e for e in words.strip()[7:-1] if e.isalnum()))\n",
    "                i += 1\n",
    "            else:\n",
    "                temp_room_type.append(words.strip()[7:-1].strip().strip('\\\"'))\n",
    "        if words.strip()[:7] == '''\"price\"''':\n",
    "            temp_price.append(float(words.strip()[8:].strip()[:-1]))\n",
    "        if words.strip()[:10] == '''\"latitude\"''':\n",
    "            dic['latitude'].append(float(words.strip()[11:].strip()[:-1]))\n",
    "        if words.strip()[:11] == '''\"longitude\"''':\n",
    "            dic['longitude'].append(float(words.strip()[12:].strip()[:-1]))\n",
    "        if words.strip()[:5] == '''\"url\"''' and j == 1:\n",
    "            dic['url'].append(words.strip()[6:-1].strip().strip('\\\"'))\n",
    "            j += 1\n",
    "    \n",
    "    #Take out those that do not have room type and price\n",
    "    if len(temp_room_type) == 0 and len(temp_price) == 0:\n",
    "        if len(dic['name']) != 0:\n",
    "            dic['name'].pop()\n",
    "    else:\n",
    "        dic['room_type'].append(temp_room_type)\n",
    "        dic['price'].append(temp_price)"
   ]
  },
  {
   "cell_type": "code",
   "execution_count": 93,
   "metadata": {},
   "outputs": [],
   "source": [
    "def scrapping_rentals_ca(pagenum = 50):\n",
    "    #Initialize the final dict for return\n",
    "    dic = {'name':[], 'price': [], 'latitude': [], 'longitude': [], 'url': [], 'location': [], 'room_type': []}\n",
    "    #Initialize the link\n",
    "    initial_link = 'https://rentals.ca/toronto?p='\n",
    "    #Go to the specificied link page and get the housing info\n",
    "    for idx in range(pagenum):\n",
    "        link = initial_link + str(idx+1)\n",
    "        response = get(link, headers=headers)\n",
    "        html_soup = BeautifulSoup(response.text, 'html.parser')\n",
    "\n",
    "        all_script = html_soup.find_all('script')\n",
    "\n",
    "        json_list = []\n",
    "        for item in all_script:\n",
    "            if str(item).startswith('''<script type=\"applic'''):\n",
    "                json_list.append(str(item))\n",
    "        \n",
    "        #For each webpage, save its info in a temp list and then add to dictionary\n",
    "        for item in json_list:\n",
    "            i = 1\n",
    "            j = 1\n",
    "            temp_room_type = []\n",
    "            temp_price = []\n",
    "            temp_name = []\n",
    "            for words in item.split('\\n'):\n",
    "                if words.strip()[:6] == '''\"name\"''':\n",
    "                    if i == 1:\n",
    "                        temp_name.append(words.strip()[7:-1].strip().strip('\\\"'))\n",
    "                        i += 1\n",
    "                    elif i == 2:\n",
    "                        dic['location'].append(''.join(e for e in words.strip()[7:-1] if e.isalnum()))\n",
    "                        i += 1\n",
    "                    else:\n",
    "                        temp_room_type.append(words.strip()[7:-1].strip().strip('\\\"'))\n",
    "                if words.strip()[:7] == '''\"price\"''':\n",
    "                    temp_price.append(float(words.strip()[8:].strip()[:-1]))\n",
    "                if words.strip()[:10] == '''\"latitude\"''':\n",
    "                    dic['latitude'].append(float(words.strip()[11:].strip()[:-1]))\n",
    "                if words.strip()[:11] == '''\"longitude\"''':\n",
    "                    dic['longitude'].append(float(words.strip()[12:].strip()[:-1]))\n",
    "                if words.strip()[:5] == '''\"url\"''' and j == 1:\n",
    "                    dic['url'].append(words.strip()[6:-1].strip().strip('\\\"'))\n",
    "                    j += 1\n",
    "            if len(temp_room_type) == 0 and len(temp_price) == 0:\n",
    "                if len(temp_name) != 0:\n",
    "                    temp_name.pop()\n",
    "            else:\n",
    "                dic['name'].append(temp_name)\n",
    "                dic['room_type'].append(temp_room_type)\n",
    "                dic['price'].append(temp_price)\n",
    "                #print(\"Iteration {}, dictionary length now is {}\".format(idx, [len(x) for x in dic.values()]))\n",
    "    return dic"
   ]
  },
  {
   "cell_type": "code",
   "execution_count": 94,
   "metadata": {
    "scrolled": true
   },
   "outputs": [],
   "source": [
    "scrapped = scrapping_rentals_ca(pagenum=150)"
   ]
  },
  {
   "cell_type": "code",
   "execution_count": 58,
   "metadata": {},
   "outputs": [],
   "source": [
    "csv_columns = list(k for k in dic.keys())"
   ]
  },
  {
   "cell_type": "code",
   "execution_count": 59,
   "metadata": {},
   "outputs": [
    {
     "data": {
      "text/plain": [
       "['name', 'price', 'latitude', 'longitude', 'url', 'location', 'room_type']"
      ]
     },
     "execution_count": 59,
     "metadata": {},
     "output_type": "execute_result"
    }
   ],
   "source": [
    "csv_columns"
   ]
  },
  {
   "cell_type": "code",
   "execution_count": 95,
   "metadata": {},
   "outputs": [
    {
     "data": {
      "text/plain": [
       "[1500, 1500, 1500, 1500, 1500, 1500, 1500]"
      ]
     },
     "execution_count": 95,
     "metadata": {},
     "output_type": "execute_result"
    }
   ],
   "source": [
    "[len(x) for x in scrapped.values()]"
   ]
  },
  {
   "cell_type": "code",
   "execution_count": 63,
   "metadata": {},
   "outputs": [],
   "source": [
    "import pandas as pd"
   ]
  },
  {
   "cell_type": "code",
   "execution_count": 96,
   "metadata": {},
   "outputs": [],
   "source": [
    "scrapped_df = pd.DataFrame.from_dict(scrapped)"
   ]
  },
  {
   "cell_type": "code",
   "execution_count": 97,
   "metadata": {},
   "outputs": [
    {
     "data": {
      "text/html": [
       "<div>\n",
       "<style scoped>\n",
       "    .dataframe tbody tr th:only-of-type {\n",
       "        vertical-align: middle;\n",
       "    }\n",
       "\n",
       "    .dataframe tbody tr th {\n",
       "        vertical-align: top;\n",
       "    }\n",
       "\n",
       "    .dataframe thead th {\n",
       "        text-align: right;\n",
       "    }\n",
       "</style>\n",
       "<table border=\"1\" class=\"dataframe\">\n",
       "  <thead>\n",
       "    <tr style=\"text-align: right;\">\n",
       "      <th></th>\n",
       "      <th>name</th>\n",
       "      <th>price</th>\n",
       "      <th>latitude</th>\n",
       "      <th>longitude</th>\n",
       "      <th>url</th>\n",
       "      <th>location</th>\n",
       "      <th>room_type</th>\n",
       "    </tr>\n",
       "  </thead>\n",
       "  <tbody>\n",
       "    <tr>\n",
       "      <th>0</th>\n",
       "      <td>[120 Raglan Avenue]</td>\n",
       "      <td>[1864.0, 2003.0, 2347.0]</td>\n",
       "      <td>43.686516</td>\n",
       "      <td>-79.421005</td>\n",
       "      <td>https://rentals.ca/york/120-raglan-avenue</td>\n",
       "      <td>York</td>\n",
       "      <td>[Jr. 1 Bedroom, 1 Bedroom, 2 Bedroom]</td>\n",
       "    </tr>\n",
       "    <tr>\n",
       "      <th>1</th>\n",
       "      <td>[310-312 Lonsdale Road]</td>\n",
       "      <td>[2134.0, 2475.0]</td>\n",
       "      <td>43.689224</td>\n",
       "      <td>-79.411199</td>\n",
       "      <td>https://rentals.ca/toronto/310-312-lonsdale-road</td>\n",
       "      <td>Toronto</td>\n",
       "      <td>[1 Bedroom, 2 Bedroom]</td>\n",
       "    </tr>\n",
       "    <tr>\n",
       "      <th>2</th>\n",
       "      <td>[35 Walmer Road]</td>\n",
       "      <td>[2183.0, 2353.0, 2888.0]</td>\n",
       "      <td>43.668877</td>\n",
       "      <td>-79.405555</td>\n",
       "      <td>https://rentals.ca/toronto/35-walmer-road</td>\n",
       "      <td>Toronto</td>\n",
       "      <td>[Jr. 1 Bedroom, 1 Bedroom, 2 Bedroom]</td>\n",
       "    </tr>\n",
       "    <tr>\n",
       "      <th>3</th>\n",
       "      <td>[50 Spadina Road]</td>\n",
       "      <td>[2549.0, 2732.0, 3506.0]</td>\n",
       "      <td>43.669070</td>\n",
       "      <td>-79.404672</td>\n",
       "      <td>https://rentals.ca/toronto/50-spadina-road</td>\n",
       "      <td>Toronto</td>\n",
       "      <td>[1 Bedroom, Large 1-Bedroom, 2 Bedroom]</td>\n",
       "    </tr>\n",
       "    <tr>\n",
       "      <th>4</th>\n",
       "      <td>[45 Carlton Street]</td>\n",
       "      <td>[3700.0]</td>\n",
       "      <td>43.661415</td>\n",
       "      <td>-79.380663</td>\n",
       "      <td>https://rentals.ca/toronto/45-carlton-street-2</td>\n",
       "      <td>Toronto</td>\n",
       "      <td>[2.5 Bedroom]</td>\n",
       "    </tr>\n",
       "  </tbody>\n",
       "</table>\n",
       "</div>"
      ],
      "text/plain": [
       "                      name                     price   latitude  longitude  \\\n",
       "0      [120 Raglan Avenue]  [1864.0, 2003.0, 2347.0]  43.686516 -79.421005   \n",
       "1  [310-312 Lonsdale Road]          [2134.0, 2475.0]  43.689224 -79.411199   \n",
       "2         [35 Walmer Road]  [2183.0, 2353.0, 2888.0]  43.668877 -79.405555   \n",
       "3        [50 Spadina Road]  [2549.0, 2732.0, 3506.0]  43.669070 -79.404672   \n",
       "4      [45 Carlton Street]                  [3700.0]  43.661415 -79.380663   \n",
       "\n",
       "                                                url location  \\\n",
       "0         https://rentals.ca/york/120-raglan-avenue     York   \n",
       "1  https://rentals.ca/toronto/310-312-lonsdale-road  Toronto   \n",
       "2         https://rentals.ca/toronto/35-walmer-road  Toronto   \n",
       "3        https://rentals.ca/toronto/50-spadina-road  Toronto   \n",
       "4    https://rentals.ca/toronto/45-carlton-street-2  Toronto   \n",
       "\n",
       "                                 room_type  \n",
       "0    [Jr. 1 Bedroom, 1 Bedroom, 2 Bedroom]  \n",
       "1                   [1 Bedroom, 2 Bedroom]  \n",
       "2    [Jr. 1 Bedroom, 1 Bedroom, 2 Bedroom]  \n",
       "3  [1 Bedroom, Large 1-Bedroom, 2 Bedroom]  \n",
       "4                            [2.5 Bedroom]  "
      ]
     },
     "execution_count": 97,
     "metadata": {},
     "output_type": "execute_result"
    }
   ],
   "source": [
    "scrapped_df.head()"
   ]
  },
  {
   "cell_type": "code",
   "execution_count": 98,
   "metadata": {},
   "outputs": [
    {
     "name": "stdout",
     "output_type": "stream",
     "text": [
      "<class 'pandas.core.frame.DataFrame'>\n",
      "RangeIndex: 1500 entries, 0 to 1499\n",
      "Data columns (total 7 columns):\n",
      "name         1500 non-null object\n",
      "price        1500 non-null object\n",
      "latitude     1500 non-null float64\n",
      "longitude    1500 non-null float64\n",
      "url          1500 non-null object\n",
      "location     1500 non-null object\n",
      "room_type    1500 non-null object\n",
      "dtypes: float64(2), object(5)\n",
      "memory usage: 82.1+ KB\n"
     ]
    }
   ],
   "source": [
    "scrapped_df.info()"
   ]
  },
  {
   "cell_type": "code",
   "execution_count": 99,
   "metadata": {},
   "outputs": [],
   "source": [
    "scrapped_df.to_csv('rental.csv', index=False)"
   ]
  },
  {
   "cell_type": "code",
   "execution_count": null,
   "metadata": {},
   "outputs": [],
   "source": []
  }
 ],
 "metadata": {
  "kernelspec": {
   "display_name": "Python 3",
   "language": "python",
   "name": "python3"
  },
  "language_info": {
   "codemirror_mode": {
    "name": "ipython",
    "version": 3
   },
   "file_extension": ".py",
   "mimetype": "text/x-python",
   "name": "python",
   "nbconvert_exporter": "python",
   "pygments_lexer": "ipython3",
   "version": "3.7.3"
  }
 },
 "nbformat": 4,
 "nbformat_minor": 2
}
