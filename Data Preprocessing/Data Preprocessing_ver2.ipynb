{
 "cells": [
  {
   "cell_type": "code",
   "execution_count": 1,
   "metadata": {},
   "outputs": [],
   "source": [
    "import pandas as pd\n",
    "import numpy as np\n",
    "import re\n",
    "\n",
    "import math\n",
    "\n",
    "import matplotlib.pyplot as plt\n",
    "import seaborn as sns\n",
    "\n",
    "#pd.set_option('display.max_colwidth', -1)"
   ]
  },
  {
   "cell_type": "code",
   "execution_count": 2,
   "metadata": {},
   "outputs": [],
   "source": [
    "rental_data = pd.read_csv(\"big_rental.csv\")"
   ]
  },
  {
   "cell_type": "code",
   "execution_count": 3,
   "metadata": {},
   "outputs": [
    {
     "data": {
      "text/plain": [
       "(6190, 228)"
      ]
     },
     "execution_count": 3,
     "metadata": {},
     "output_type": "execute_result"
    }
   ],
   "source": [
    "rental_data.shape"
   ]
  },
  {
   "cell_type": "code",
   "execution_count": 4,
   "metadata": {},
   "outputs": [
    {
     "data": {
      "text/html": [
       "<div>\n",
       "<style scoped>\n",
       "    .dataframe tbody tr th:only-of-type {\n",
       "        vertical-align: middle;\n",
       "    }\n",
       "\n",
       "    .dataframe tbody tr th {\n",
       "        vertical-align: top;\n",
       "    }\n",
       "\n",
       "    .dataframe thead th {\n",
       "        text-align: right;\n",
       "    }\n",
       "</style>\n",
       "<table border=\"1\" class=\"dataframe\">\n",
       "  <thead>\n",
       "    <tr style=\"text-align: right;\">\n",
       "      <th></th>\n",
       "      <th>name</th>\n",
       "      <th>price</th>\n",
       "      <th>latitude</th>\n",
       "      <th>longitude</th>\n",
       "      <th>url</th>\n",
       "      <th>location</th>\n",
       "      <th>room_type</th>\n",
       "      <th>\"24H Maintenance\"</th>\n",
       "      <th>\"24H On-Site Security\"</th>\n",
       "      <th>\"24H Surveillance\"</th>\n",
       "      <th>...</th>\n",
       "      <th>\"Wine Fridge\"</th>\n",
       "      <th>\"bathroom_num\"</th>\n",
       "      <th>\"bedroom_num\"</th>\n",
       "      <th>\"freezer included\"</th>\n",
       "      <th>\"fridge included\"</th>\n",
       "      <th>\"gym\"</th>\n",
       "      <th>\"internet available\"</th>\n",
       "      <th>\"meeting room\"</th>\n",
       "      <th>\"oven included\"</th>\n",
       "      <th>\"smoker friendly\"</th>\n",
       "    </tr>\n",
       "  </thead>\n",
       "  <tbody>\n",
       "    <tr>\n",
       "      <th>0</th>\n",
       "      <td>120 Raglan Avenue</td>\n",
       "      <td>1864.0,2003.0,2347.0</td>\n",
       "      <td>43.686516</td>\n",
       "      <td>-79.421005</td>\n",
       "      <td>https://rentals.ca/york/120-raglan-avenue</td>\n",
       "      <td>York</td>\n",
       "      <td>Jr. 1 Bedroom,1 Bedroom,2 Bedroom</td>\n",
       "      <td>NaN</td>\n",
       "      <td>NaN</td>\n",
       "      <td>NaN</td>\n",
       "      <td>...</td>\n",
       "      <td>NaN</td>\n",
       "      <td>'1.0', '1.0', '1.0'</td>\n",
       "      <td>'1.0', '1.0', '2.0'</td>\n",
       "      <td>NaN</td>\n",
       "      <td>NaN</td>\n",
       "      <td>NaN</td>\n",
       "      <td>NaN</td>\n",
       "      <td>NaN</td>\n",
       "      <td>NaN</td>\n",
       "      <td>NaN</td>\n",
       "    </tr>\n",
       "    <tr>\n",
       "      <th>1</th>\n",
       "      <td>310-312 Lonsdale Road</td>\n",
       "      <td>2134.0,2475.0</td>\n",
       "      <td>43.689224</td>\n",
       "      <td>-79.411199</td>\n",
       "      <td>https://rentals.ca/toronto/310-312-lonsdale-road</td>\n",
       "      <td>Toronto</td>\n",
       "      <td>1 Bedroom,2 Bedroom</td>\n",
       "      <td>NaN</td>\n",
       "      <td>NaN</td>\n",
       "      <td>NaN</td>\n",
       "      <td>...</td>\n",
       "      <td>NaN</td>\n",
       "      <td>'1.0', '1.0'</td>\n",
       "      <td>'1.0', '2.0'</td>\n",
       "      <td>NaN</td>\n",
       "      <td>NaN</td>\n",
       "      <td>NaN</td>\n",
       "      <td>NaN</td>\n",
       "      <td>NaN</td>\n",
       "      <td>NaN</td>\n",
       "      <td>NaN</td>\n",
       "    </tr>\n",
       "    <tr>\n",
       "      <th>2</th>\n",
       "      <td>35 Walmer Road</td>\n",
       "      <td>2183.0,2353.0,2888.0</td>\n",
       "      <td>43.668877</td>\n",
       "      <td>-79.405555</td>\n",
       "      <td>https://rentals.ca/toronto/35-walmer-road</td>\n",
       "      <td>Toronto</td>\n",
       "      <td>Jr. 1 Bedroom,1 Bedroom,2 Bedroom</td>\n",
       "      <td>NaN</td>\n",
       "      <td>NaN</td>\n",
       "      <td>NaN</td>\n",
       "      <td>...</td>\n",
       "      <td>NaN</td>\n",
       "      <td>'1.0', '1.0', '1.0'</td>\n",
       "      <td>'1.0', '0.5', '2.0'</td>\n",
       "      <td>NaN</td>\n",
       "      <td>NaN</td>\n",
       "      <td>NaN</td>\n",
       "      <td>NaN</td>\n",
       "      <td>NaN</td>\n",
       "      <td>NaN</td>\n",
       "      <td>NaN</td>\n",
       "    </tr>\n",
       "    <tr>\n",
       "      <th>3</th>\n",
       "      <td>50 Spadina Road</td>\n",
       "      <td>2549.0,2732.0,3506.0</td>\n",
       "      <td>43.669070</td>\n",
       "      <td>-79.404672</td>\n",
       "      <td>https://rentals.ca/toronto/50-spadina-road</td>\n",
       "      <td>Toronto</td>\n",
       "      <td>1 Bedroom,Large 1-Bedroom,2 Bedroom</td>\n",
       "      <td>NaN</td>\n",
       "      <td>NaN</td>\n",
       "      <td>NaN</td>\n",
       "      <td>...</td>\n",
       "      <td>NaN</td>\n",
       "      <td>'1.0', '1.0', '1.0'</td>\n",
       "      <td>'1.0', '1.0', '2.0'</td>\n",
       "      <td>NaN</td>\n",
       "      <td>NaN</td>\n",
       "      <td>NaN</td>\n",
       "      <td>NaN</td>\n",
       "      <td>NaN</td>\n",
       "      <td>NaN</td>\n",
       "      <td>NaN</td>\n",
       "    </tr>\n",
       "    <tr>\n",
       "      <th>4</th>\n",
       "      <td>730 Dovercourt Road - Doversquare Apartments</td>\n",
       "      <td>1707.0,1887.0,1907.0</td>\n",
       "      <td>43.660713</td>\n",
       "      <td>-79.429237</td>\n",
       "      <td>https://rentals.ca/toronto/730-dovercourt-road...</td>\n",
       "      <td>Toronto</td>\n",
       "      <td>Bachelor,1 Bedroom,1 Bedroom</td>\n",
       "      <td>NaN</td>\n",
       "      <td>NaN</td>\n",
       "      <td>NaN</td>\n",
       "      <td>...</td>\n",
       "      <td>NaN</td>\n",
       "      <td>'1.0', '1.0', '1.0'</td>\n",
       "      <td>'0.0', '1.0', '1.0'</td>\n",
       "      <td>NaN</td>\n",
       "      <td>NaN</td>\n",
       "      <td>NaN</td>\n",
       "      <td>NaN</td>\n",
       "      <td>NaN</td>\n",
       "      <td>NaN</td>\n",
       "      <td>NaN</td>\n",
       "    </tr>\n",
       "  </tbody>\n",
       "</table>\n",
       "<p>5 rows × 228 columns</p>\n",
       "</div>"
      ],
      "text/plain": [
       "                                           name                 price  \\\n",
       "0                             120 Raglan Avenue  1864.0,2003.0,2347.0   \n",
       "1                         310-312 Lonsdale Road         2134.0,2475.0   \n",
       "2                                35 Walmer Road  2183.0,2353.0,2888.0   \n",
       "3                               50 Spadina Road  2549.0,2732.0,3506.0   \n",
       "4  730 Dovercourt Road - Doversquare Apartments  1707.0,1887.0,1907.0   \n",
       "\n",
       "    latitude  longitude                                                url  \\\n",
       "0  43.686516 -79.421005          https://rentals.ca/york/120-raglan-avenue   \n",
       "1  43.689224 -79.411199   https://rentals.ca/toronto/310-312-lonsdale-road   \n",
       "2  43.668877 -79.405555          https://rentals.ca/toronto/35-walmer-road   \n",
       "3  43.669070 -79.404672         https://rentals.ca/toronto/50-spadina-road   \n",
       "4  43.660713 -79.429237  https://rentals.ca/toronto/730-dovercourt-road...   \n",
       "\n",
       "  location                            room_type  \"24H Maintenance\"  \\\n",
       "0     York    Jr. 1 Bedroom,1 Bedroom,2 Bedroom                NaN   \n",
       "1  Toronto                  1 Bedroom,2 Bedroom                NaN   \n",
       "2  Toronto    Jr. 1 Bedroom,1 Bedroom,2 Bedroom                NaN   \n",
       "3  Toronto  1 Bedroom,Large 1-Bedroom,2 Bedroom                NaN   \n",
       "4  Toronto         Bachelor,1 Bedroom,1 Bedroom                NaN   \n",
       "\n",
       "   \"24H On-Site Security\"  \"24H Surveillance\"  ...  \"Wine Fridge\"  \\\n",
       "0                     NaN                 NaN  ...            NaN   \n",
       "1                     NaN                 NaN  ...            NaN   \n",
       "2                     NaN                 NaN  ...            NaN   \n",
       "3                     NaN                 NaN  ...            NaN   \n",
       "4                     NaN                 NaN  ...            NaN   \n",
       "\n",
       "        \"bathroom_num\"        \"bedroom_num\"  \"freezer included\"  \\\n",
       "0  '1.0', '1.0', '1.0'  '1.0', '1.0', '2.0'                 NaN   \n",
       "1         '1.0', '1.0'         '1.0', '2.0'                 NaN   \n",
       "2  '1.0', '1.0', '1.0'  '1.0', '0.5', '2.0'                 NaN   \n",
       "3  '1.0', '1.0', '1.0'  '1.0', '1.0', '2.0'                 NaN   \n",
       "4  '1.0', '1.0', '1.0'  '0.0', '1.0', '1.0'                 NaN   \n",
       "\n",
       "   \"fridge included\"  \"gym\"  \"internet available\"  \"meeting room\"  \\\n",
       "0                NaN    NaN                   NaN             NaN   \n",
       "1                NaN    NaN                   NaN             NaN   \n",
       "2                NaN    NaN                   NaN             NaN   \n",
       "3                NaN    NaN                   NaN             NaN   \n",
       "4                NaN    NaN                   NaN             NaN   \n",
       "\n",
       "   \"oven included\"  \"smoker friendly\"  \n",
       "0              NaN                NaN  \n",
       "1              NaN                NaN  \n",
       "2              NaN                NaN  \n",
       "3              NaN                NaN  \n",
       "4              NaN                NaN  \n",
       "\n",
       "[5 rows x 228 columns]"
      ]
     },
     "execution_count": 4,
     "metadata": {},
     "output_type": "execute_result"
    }
   ],
   "source": [
    "rental_data.head()"
   ]
  },
  {
   "cell_type": "code",
   "execution_count": 5,
   "metadata": {},
   "outputs": [
    {
     "data": {
      "text/plain": [
       "(-79.1969318, -79.623299, 43.8264097, 43.553268)"
      ]
     },
     "execution_count": 5,
     "metadata": {},
     "output_type": "execute_result"
    }
   ],
   "source": [
    "max(rental_data.longitude), min(rental_data.longitude), max(rental_data.latitude), min(rental_data.latitude)"
   ]
  },
  {
   "cell_type": "code",
   "execution_count": 6,
   "metadata": {},
   "outputs": [],
   "source": [
    "#Remove various symbols in columns\n",
    "fixed_columns = []\n",
    "for col_val in rental_data.columns:\n",
    "    fixed_columns.append(re.sub(r'\\W+', '', col_val.replace('\"', '')))"
   ]
  },
  {
   "cell_type": "code",
   "execution_count": 7,
   "metadata": {},
   "outputs": [],
   "source": [
    "rental_data.columns = fixed_columns"
   ]
  },
  {
   "cell_type": "code",
   "execution_count": 8,
   "metadata": {},
   "outputs": [],
   "source": [
    "#fill na with 0s\n",
    "rental_data[['bedroom_num','bathroom_num']] = rental_data[['bedroom_num','bathroom_num']].fillna(value='0')\n",
    "rental_data = rental_data.fillna(0)"
   ]
  },
  {
   "cell_type": "code",
   "execution_count": 9,
   "metadata": {},
   "outputs": [
    {
     "data": {
      "text/html": [
       "<div>\n",
       "<style scoped>\n",
       "    .dataframe tbody tr th:only-of-type {\n",
       "        vertical-align: middle;\n",
       "    }\n",
       "\n",
       "    .dataframe tbody tr th {\n",
       "        vertical-align: top;\n",
       "    }\n",
       "\n",
       "    .dataframe thead th {\n",
       "        text-align: right;\n",
       "    }\n",
       "</style>\n",
       "<table border=\"1\" class=\"dataframe\">\n",
       "  <thead>\n",
       "    <tr style=\"text-align: right;\">\n",
       "      <th></th>\n",
       "      <th>name</th>\n",
       "      <th>price</th>\n",
       "      <th>latitude</th>\n",
       "      <th>longitude</th>\n",
       "      <th>url</th>\n",
       "      <th>location</th>\n",
       "      <th>room_type</th>\n",
       "      <th>24HMaintenance</th>\n",
       "      <th>24HOnSiteSecurity</th>\n",
       "      <th>24HSurveillance</th>\n",
       "      <th>...</th>\n",
       "      <th>WineFridge</th>\n",
       "      <th>bathroom_num</th>\n",
       "      <th>bedroom_num</th>\n",
       "      <th>freezerincluded</th>\n",
       "      <th>fridgeincluded</th>\n",
       "      <th>gym</th>\n",
       "      <th>internetavailable</th>\n",
       "      <th>meetingroom</th>\n",
       "      <th>ovenincluded</th>\n",
       "      <th>smokerfriendly</th>\n",
       "    </tr>\n",
       "  </thead>\n",
       "  <tbody>\n",
       "    <tr>\n",
       "      <th>0</th>\n",
       "      <td>120 Raglan Avenue</td>\n",
       "      <td>1864.0,2003.0,2347.0</td>\n",
       "      <td>43.686516</td>\n",
       "      <td>-79.421005</td>\n",
       "      <td>https://rentals.ca/york/120-raglan-avenue</td>\n",
       "      <td>York</td>\n",
       "      <td>Jr. 1 Bedroom,1 Bedroom,2 Bedroom</td>\n",
       "      <td>0.0</td>\n",
       "      <td>0.0</td>\n",
       "      <td>0.0</td>\n",
       "      <td>...</td>\n",
       "      <td>0.0</td>\n",
       "      <td>'1.0', '1.0', '1.0'</td>\n",
       "      <td>'1.0', '1.0', '2.0'</td>\n",
       "      <td>0.0</td>\n",
       "      <td>0.0</td>\n",
       "      <td>0.0</td>\n",
       "      <td>0.0</td>\n",
       "      <td>0.0</td>\n",
       "      <td>0.0</td>\n",
       "      <td>0.0</td>\n",
       "    </tr>\n",
       "    <tr>\n",
       "      <th>1</th>\n",
       "      <td>310-312 Lonsdale Road</td>\n",
       "      <td>2134.0,2475.0</td>\n",
       "      <td>43.689224</td>\n",
       "      <td>-79.411199</td>\n",
       "      <td>https://rentals.ca/toronto/310-312-lonsdale-road</td>\n",
       "      <td>Toronto</td>\n",
       "      <td>1 Bedroom,2 Bedroom</td>\n",
       "      <td>0.0</td>\n",
       "      <td>0.0</td>\n",
       "      <td>0.0</td>\n",
       "      <td>...</td>\n",
       "      <td>0.0</td>\n",
       "      <td>'1.0', '1.0'</td>\n",
       "      <td>'1.0', '2.0'</td>\n",
       "      <td>0.0</td>\n",
       "      <td>0.0</td>\n",
       "      <td>0.0</td>\n",
       "      <td>0.0</td>\n",
       "      <td>0.0</td>\n",
       "      <td>0.0</td>\n",
       "      <td>0.0</td>\n",
       "    </tr>\n",
       "    <tr>\n",
       "      <th>2</th>\n",
       "      <td>35 Walmer Road</td>\n",
       "      <td>2183.0,2353.0,2888.0</td>\n",
       "      <td>43.668877</td>\n",
       "      <td>-79.405555</td>\n",
       "      <td>https://rentals.ca/toronto/35-walmer-road</td>\n",
       "      <td>Toronto</td>\n",
       "      <td>Jr. 1 Bedroom,1 Bedroom,2 Bedroom</td>\n",
       "      <td>0.0</td>\n",
       "      <td>0.0</td>\n",
       "      <td>0.0</td>\n",
       "      <td>...</td>\n",
       "      <td>0.0</td>\n",
       "      <td>'1.0', '1.0', '1.0'</td>\n",
       "      <td>'1.0', '0.5', '2.0'</td>\n",
       "      <td>0.0</td>\n",
       "      <td>0.0</td>\n",
       "      <td>0.0</td>\n",
       "      <td>0.0</td>\n",
       "      <td>0.0</td>\n",
       "      <td>0.0</td>\n",
       "      <td>0.0</td>\n",
       "    </tr>\n",
       "    <tr>\n",
       "      <th>3</th>\n",
       "      <td>50 Spadina Road</td>\n",
       "      <td>2549.0,2732.0,3506.0</td>\n",
       "      <td>43.669070</td>\n",
       "      <td>-79.404672</td>\n",
       "      <td>https://rentals.ca/toronto/50-spadina-road</td>\n",
       "      <td>Toronto</td>\n",
       "      <td>1 Bedroom,Large 1-Bedroom,2 Bedroom</td>\n",
       "      <td>0.0</td>\n",
       "      <td>0.0</td>\n",
       "      <td>0.0</td>\n",
       "      <td>...</td>\n",
       "      <td>0.0</td>\n",
       "      <td>'1.0', '1.0', '1.0'</td>\n",
       "      <td>'1.0', '1.0', '2.0'</td>\n",
       "      <td>0.0</td>\n",
       "      <td>0.0</td>\n",
       "      <td>0.0</td>\n",
       "      <td>0.0</td>\n",
       "      <td>0.0</td>\n",
       "      <td>0.0</td>\n",
       "      <td>0.0</td>\n",
       "    </tr>\n",
       "    <tr>\n",
       "      <th>4</th>\n",
       "      <td>730 Dovercourt Road - Doversquare Apartments</td>\n",
       "      <td>1707.0,1887.0,1907.0</td>\n",
       "      <td>43.660713</td>\n",
       "      <td>-79.429237</td>\n",
       "      <td>https://rentals.ca/toronto/730-dovercourt-road...</td>\n",
       "      <td>Toronto</td>\n",
       "      <td>Bachelor,1 Bedroom,1 Bedroom</td>\n",
       "      <td>0.0</td>\n",
       "      <td>0.0</td>\n",
       "      <td>0.0</td>\n",
       "      <td>...</td>\n",
       "      <td>0.0</td>\n",
       "      <td>'1.0', '1.0', '1.0'</td>\n",
       "      <td>'0.0', '1.0', '1.0'</td>\n",
       "      <td>0.0</td>\n",
       "      <td>0.0</td>\n",
       "      <td>0.0</td>\n",
       "      <td>0.0</td>\n",
       "      <td>0.0</td>\n",
       "      <td>0.0</td>\n",
       "      <td>0.0</td>\n",
       "    </tr>\n",
       "  </tbody>\n",
       "</table>\n",
       "<p>5 rows × 228 columns</p>\n",
       "</div>"
      ],
      "text/plain": [
       "                                           name                 price  \\\n",
       "0                             120 Raglan Avenue  1864.0,2003.0,2347.0   \n",
       "1                         310-312 Lonsdale Road         2134.0,2475.0   \n",
       "2                                35 Walmer Road  2183.0,2353.0,2888.0   \n",
       "3                               50 Spadina Road  2549.0,2732.0,3506.0   \n",
       "4  730 Dovercourt Road - Doversquare Apartments  1707.0,1887.0,1907.0   \n",
       "\n",
       "    latitude  longitude                                                url  \\\n",
       "0  43.686516 -79.421005          https://rentals.ca/york/120-raglan-avenue   \n",
       "1  43.689224 -79.411199   https://rentals.ca/toronto/310-312-lonsdale-road   \n",
       "2  43.668877 -79.405555          https://rentals.ca/toronto/35-walmer-road   \n",
       "3  43.669070 -79.404672         https://rentals.ca/toronto/50-spadina-road   \n",
       "4  43.660713 -79.429237  https://rentals.ca/toronto/730-dovercourt-road...   \n",
       "\n",
       "  location                            room_type  24HMaintenance  \\\n",
       "0     York    Jr. 1 Bedroom,1 Bedroom,2 Bedroom             0.0   \n",
       "1  Toronto                  1 Bedroom,2 Bedroom             0.0   \n",
       "2  Toronto    Jr. 1 Bedroom,1 Bedroom,2 Bedroom             0.0   \n",
       "3  Toronto  1 Bedroom,Large 1-Bedroom,2 Bedroom             0.0   \n",
       "4  Toronto         Bachelor,1 Bedroom,1 Bedroom             0.0   \n",
       "\n",
       "   24HOnSiteSecurity  24HSurveillance  ...  WineFridge         bathroom_num  \\\n",
       "0                0.0              0.0  ...         0.0  '1.0', '1.0', '1.0'   \n",
       "1                0.0              0.0  ...         0.0         '1.0', '1.0'   \n",
       "2                0.0              0.0  ...         0.0  '1.0', '1.0', '1.0'   \n",
       "3                0.0              0.0  ...         0.0  '1.0', '1.0', '1.0'   \n",
       "4                0.0              0.0  ...         0.0  '1.0', '1.0', '1.0'   \n",
       "\n",
       "           bedroom_num  freezerincluded  fridgeincluded  gym  \\\n",
       "0  '1.0', '1.0', '2.0'              0.0             0.0  0.0   \n",
       "1         '1.0', '2.0'              0.0             0.0  0.0   \n",
       "2  '1.0', '0.5', '2.0'              0.0             0.0  0.0   \n",
       "3  '1.0', '1.0', '2.0'              0.0             0.0  0.0   \n",
       "4  '0.0', '1.0', '1.0'              0.0             0.0  0.0   \n",
       "\n",
       "   internetavailable  meetingroom  ovenincluded  smokerfriendly  \n",
       "0                0.0          0.0           0.0             0.0  \n",
       "1                0.0          0.0           0.0             0.0  \n",
       "2                0.0          0.0           0.0             0.0  \n",
       "3                0.0          0.0           0.0             0.0  \n",
       "4                0.0          0.0           0.0             0.0  \n",
       "\n",
       "[5 rows x 228 columns]"
      ]
     },
     "execution_count": 9,
     "metadata": {},
     "output_type": "execute_result"
    }
   ],
   "source": [
    "rental_data.head()"
   ]
  },
  {
   "cell_type": "code",
   "execution_count": 10,
   "metadata": {},
   "outputs": [],
   "source": [
    "#check how many of the properties has the features and store in count_list\n",
    "count_list = []\n",
    "column_list = []\n",
    "for col in [column for column in rental_data.columns[7:] if column != 'bathroom_num' and column != 'bedroom_num']:\n",
    "    column_list.append(col)\n",
    "    count_list.append(sum(rental_data[col]))"
   ]
  },
  {
   "cell_type": "code",
   "execution_count": 11,
   "metadata": {
    "scrolled": false
   },
   "outputs": [
    {
     "data": {
      "image/png": "[encoded data removed]",
      "text/plain": [
       "<Figure size 1440x576 with 1 Axes>"
      ]
     },
     "metadata": {
      "needs_background": "light"
     },
     "output_type": "display_data"
    }
   ],
   "source": [
    "plt.figure(figsize=(20, 8))\n",
    "count_plot = sns.barplot(column_list, count_list)\n",
    "for item in count_plot.get_xticklabels():\n",
    "    item.set_rotation(45)\n",
    "count_plot.tick_params(labelsize=8)\n",
    "plt.title(\"Count of properties that has these features\")\n",
    "plt.show()"
   ]
  },
  {
   "cell_type": "code",
   "execution_count": 12,
   "metadata": {},
   "outputs": [
    {
     "data": {
      "text/plain": [
       "140"
      ]
     },
     "execution_count": 12,
     "metadata": {},
     "output_type": "execute_result"
    }
   ],
   "source": [
    "#Check number of properties greater than a threshold\n",
    "sum(np.array(count_list) >= 30)"
   ]
  },
  {
   "cell_type": "code",
   "execution_count": 13,
   "metadata": {},
   "outputs": [],
   "source": [
    "#Sanity check to see if there are non str in the column\n",
    "for i in rental_data.bedroom_num:\n",
    "    if type(i) != str:\n",
    "        print(i)"
   ]
  },
  {
   "cell_type": "code",
   "execution_count": 14,
   "metadata": {},
   "outputs": [
    {
     "data": {
      "text/html": [
       "<div>\n",
       "<style scoped>\n",
       "    .dataframe tbody tr th:only-of-type {\n",
       "        vertical-align: middle;\n",
       "    }\n",
       "\n",
       "    .dataframe tbody tr th {\n",
       "        vertical-align: top;\n",
       "    }\n",
       "\n",
       "    .dataframe thead th {\n",
       "        text-align: right;\n",
       "    }\n",
       "</style>\n",
       "<table border=\"1\" class=\"dataframe\">\n",
       "  <thead>\n",
       "    <tr style=\"text-align: right;\">\n",
       "      <th></th>\n",
       "      <th>price</th>\n",
       "      <th>url</th>\n",
       "      <th>room_type</th>\n",
       "      <th>bedroom_num</th>\n",
       "      <th>bathroom_num</th>\n",
       "    </tr>\n",
       "  </thead>\n",
       "  <tbody>\n",
       "    <tr>\n",
       "      <th>0</th>\n",
       "      <td>1864.0</td>\n",
       "      <td>https://rentals.ca/york/120-raglan-avenue</td>\n",
       "      <td>Jr. 1 Bedroom</td>\n",
       "      <td>'1.0'</td>\n",
       "      <td>'1.0'</td>\n",
       "    </tr>\n",
       "    <tr>\n",
       "      <th>1</th>\n",
       "      <td>2003.0</td>\n",
       "      <td>https://rentals.ca/york/120-raglan-avenue</td>\n",
       "      <td>1 Bedroom</td>\n",
       "      <td>'1.0'</td>\n",
       "      <td>'1.0'</td>\n",
       "    </tr>\n",
       "    <tr>\n",
       "      <th>2</th>\n",
       "      <td>2347.0</td>\n",
       "      <td>https://rentals.ca/york/120-raglan-avenue</td>\n",
       "      <td>2 Bedroom</td>\n",
       "      <td>'2.0'</td>\n",
       "      <td>'1.0'</td>\n",
       "    </tr>\n",
       "    <tr>\n",
       "      <th>3</th>\n",
       "      <td>2134.0</td>\n",
       "      <td>https://rentals.ca/toronto/310-312-lonsdale-road</td>\n",
       "      <td>1 Bedroom</td>\n",
       "      <td>'1.0'</td>\n",
       "      <td>'1.0'</td>\n",
       "    </tr>\n",
       "    <tr>\n",
       "      <th>4</th>\n",
       "      <td>2475.0</td>\n",
       "      <td>https://rentals.ca/toronto/310-312-lonsdale-road</td>\n",
       "      <td>2 Bedroom</td>\n",
       "      <td>'2.0'</td>\n",
       "      <td>'1.0'</td>\n",
       "    </tr>\n",
       "  </tbody>\n",
       "</table>\n",
       "</div>"
      ],
      "text/plain": [
       "    price                                               url      room_type  \\\n",
       "0  1864.0         https://rentals.ca/york/120-raglan-avenue  Jr. 1 Bedroom   \n",
       "1  2003.0         https://rentals.ca/york/120-raglan-avenue      1 Bedroom   \n",
       "2  2347.0         https://rentals.ca/york/120-raglan-avenue      2 Bedroom   \n",
       "3  2134.0  https://rentals.ca/toronto/310-312-lonsdale-road      1 Bedroom   \n",
       "4  2475.0  https://rentals.ca/toronto/310-312-lonsdale-road      2 Bedroom   \n",
       "\n",
       "  bedroom_num bathroom_num  \n",
       "0       '1.0'        '1.0'  \n",
       "1       '1.0'        '1.0'  \n",
       "2       '2.0'        '1.0'  \n",
       "3       '1.0'        '1.0'  \n",
       "4       '2.0'        '1.0'  "
      ]
     },
     "execution_count": 14,
     "metadata": {},
     "output_type": "execute_result"
    }
   ],
   "source": [
    "#Expand price, room type, bedroom, bathroom into multiple rows\n",
    "name_cols = [\"price\", \"url\", \"room_type\", \"bedroom_num\", \"bathroom_num\"]\n",
    "result_price = pd.DataFrame([(d, tup.url) for tup in rental_data.itertuples() for d in tup.price.split(\",\")])\n",
    "result_room = pd.DataFrame([(d, tup.url) for tup in rental_data.itertuples() for d in tup.room_type.split(\",\")])\n",
    "result_bednum = pd.DataFrame([(d, tup.url) for tup in rental_data.itertuples() for d in tup.bedroom_num.split(\",\")])\n",
    "result_bathnum = pd.DataFrame([(d, tup.url) for tup in rental_data.itertuples() for d in tup.bathroom_num.split(\",\")])\n",
    "concat_result = pd.concat([result_price, result_room], axis = 1).iloc[:, :-1]\n",
    "concat_result_2 = pd.concat([concat_result, result_bednum], axis = 1).iloc[:, :-1]\n",
    "concat_result_3 = pd.concat([concat_result_2, result_bathnum], axis = 1).iloc[:, :-1]\n",
    "concat_result_3.columns = name_cols\n",
    "concat_result_3.head()"
   ]
  },
  {
   "cell_type": "code",
   "execution_count": 15,
   "metadata": {},
   "outputs": [],
   "source": [
    "def convert_str_to_num(x):\n",
    "    '''\n",
    "    Convert bedroom and bathroom column to numbers\n",
    "    '''\n",
    "    num = 0\n",
    "    if type(x) != str:\n",
    "        return 0\n",
    "    else:\n",
    "        for char in x:\n",
    "            step = 0\n",
    "            if char.isdigit():\n",
    "                if step == 0:\n",
    "                    num += float(char)\n",
    "                    step += 1\n",
    "                else:\n",
    "                    num += float(char)/10\n",
    "        return num"
   ]
  },
  {
   "cell_type": "code",
   "execution_count": 16,
   "metadata": {},
   "outputs": [],
   "source": [
    "concat_result_3['bedroom_num'] = concat_result_3['bedroom_num'].apply(lambda x: convert_str_to_num(x))\n",
    "concat_result_3['bathroom_num'] = concat_result_3['bathroom_num'].apply(lambda x: convert_str_to_num(x))"
   ]
  },
  {
   "cell_type": "code",
   "execution_count": 17,
   "metadata": {},
   "outputs": [],
   "source": [
    "test_df = rental_data.drop(columns=['price', 'room_type', 'bathroom_num', 'bedroom_num'])"
   ]
  },
  {
   "cell_type": "code",
   "execution_count": 18,
   "metadata": {},
   "outputs": [
    {
     "data": {
      "text/html": [
       "<div>\n",
       "<style scoped>\n",
       "    .dataframe tbody tr th:only-of-type {\n",
       "        vertical-align: middle;\n",
       "    }\n",
       "\n",
       "    .dataframe tbody tr th {\n",
       "        vertical-align: top;\n",
       "    }\n",
       "\n",
       "    .dataframe thead th {\n",
       "        text-align: right;\n",
       "    }\n",
       "</style>\n",
       "<table border=\"1\" class=\"dataframe\">\n",
       "  <thead>\n",
       "    <tr style=\"text-align: right;\">\n",
       "      <th></th>\n",
       "      <th>name</th>\n",
       "      <th>latitude</th>\n",
       "      <th>longitude</th>\n",
       "      <th>url</th>\n",
       "      <th>location</th>\n",
       "      <th>24HMaintenance</th>\n",
       "      <th>24HOnSiteSecurity</th>\n",
       "      <th>24HSurveillance</th>\n",
       "      <th>24hEmergency</th>\n",
       "      <th>24hSecurity</th>\n",
       "      <th>...</th>\n",
       "      <th>WindowAirConditioner</th>\n",
       "      <th>WindowCoverings</th>\n",
       "      <th>WineFridge</th>\n",
       "      <th>freezerincluded</th>\n",
       "      <th>fridgeincluded</th>\n",
       "      <th>gym</th>\n",
       "      <th>internetavailable</th>\n",
       "      <th>meetingroom</th>\n",
       "      <th>ovenincluded</th>\n",
       "      <th>smokerfriendly</th>\n",
       "    </tr>\n",
       "  </thead>\n",
       "  <tbody>\n",
       "    <tr>\n",
       "      <th>0</th>\n",
       "      <td>120 Raglan Avenue</td>\n",
       "      <td>43.686516</td>\n",
       "      <td>-79.421005</td>\n",
       "      <td>https://rentals.ca/york/120-raglan-avenue</td>\n",
       "      <td>York</td>\n",
       "      <td>0.0</td>\n",
       "      <td>0.0</td>\n",
       "      <td>0.0</td>\n",
       "      <td>0.0</td>\n",
       "      <td>0.0</td>\n",
       "      <td>...</td>\n",
       "      <td>0.0</td>\n",
       "      <td>0.0</td>\n",
       "      <td>0.0</td>\n",
       "      <td>0.0</td>\n",
       "      <td>0.0</td>\n",
       "      <td>0.0</td>\n",
       "      <td>0.0</td>\n",
       "      <td>0.0</td>\n",
       "      <td>0.0</td>\n",
       "      <td>0.0</td>\n",
       "    </tr>\n",
       "    <tr>\n",
       "      <th>1</th>\n",
       "      <td>310-312 Lonsdale Road</td>\n",
       "      <td>43.689224</td>\n",
       "      <td>-79.411199</td>\n",
       "      <td>https://rentals.ca/toronto/310-312-lonsdale-road</td>\n",
       "      <td>Toronto</td>\n",
       "      <td>0.0</td>\n",
       "      <td>0.0</td>\n",
       "      <td>0.0</td>\n",
       "      <td>0.0</td>\n",
       "      <td>0.0</td>\n",
       "      <td>...</td>\n",
       "      <td>0.0</td>\n",
       "      <td>0.0</td>\n",
       "      <td>0.0</td>\n",
       "      <td>0.0</td>\n",
       "      <td>0.0</td>\n",
       "      <td>0.0</td>\n",
       "      <td>0.0</td>\n",
       "      <td>0.0</td>\n",
       "      <td>0.0</td>\n",
       "      <td>0.0</td>\n",
       "    </tr>\n",
       "    <tr>\n",
       "      <th>2</th>\n",
       "      <td>35 Walmer Road</td>\n",
       "      <td>43.668877</td>\n",
       "      <td>-79.405555</td>\n",
       "      <td>https://rentals.ca/toronto/35-walmer-road</td>\n",
       "      <td>Toronto</td>\n",
       "      <td>0.0</td>\n",
       "      <td>0.0</td>\n",
       "      <td>0.0</td>\n",
       "      <td>0.0</td>\n",
       "      <td>0.0</td>\n",
       "      <td>...</td>\n",
       "      <td>0.0</td>\n",
       "      <td>0.0</td>\n",
       "      <td>0.0</td>\n",
       "      <td>0.0</td>\n",
       "      <td>0.0</td>\n",
       "      <td>0.0</td>\n",
       "      <td>0.0</td>\n",
       "      <td>0.0</td>\n",
       "      <td>0.0</td>\n",
       "      <td>0.0</td>\n",
       "    </tr>\n",
       "    <tr>\n",
       "      <th>3</th>\n",
       "      <td>50 Spadina Road</td>\n",
       "      <td>43.669070</td>\n",
       "      <td>-79.404672</td>\n",
       "      <td>https://rentals.ca/toronto/50-spadina-road</td>\n",
       "      <td>Toronto</td>\n",
       "      <td>0.0</td>\n",
       "      <td>0.0</td>\n",
       "      <td>0.0</td>\n",
       "      <td>0.0</td>\n",
       "      <td>0.0</td>\n",
       "      <td>...</td>\n",
       "      <td>0.0</td>\n",
       "      <td>0.0</td>\n",
       "      <td>0.0</td>\n",
       "      <td>0.0</td>\n",
       "      <td>0.0</td>\n",
       "      <td>0.0</td>\n",
       "      <td>0.0</td>\n",
       "      <td>0.0</td>\n",
       "      <td>0.0</td>\n",
       "      <td>0.0</td>\n",
       "    </tr>\n",
       "    <tr>\n",
       "      <th>4</th>\n",
       "      <td>730 Dovercourt Road - Doversquare Apartments</td>\n",
       "      <td>43.660713</td>\n",
       "      <td>-79.429237</td>\n",
       "      <td>https://rentals.ca/toronto/730-dovercourt-road...</td>\n",
       "      <td>Toronto</td>\n",
       "      <td>0.0</td>\n",
       "      <td>0.0</td>\n",
       "      <td>0.0</td>\n",
       "      <td>0.0</td>\n",
       "      <td>0.0</td>\n",
       "      <td>...</td>\n",
       "      <td>0.0</td>\n",
       "      <td>0.0</td>\n",
       "      <td>0.0</td>\n",
       "      <td>0.0</td>\n",
       "      <td>0.0</td>\n",
       "      <td>0.0</td>\n",
       "      <td>0.0</td>\n",
       "      <td>0.0</td>\n",
       "      <td>0.0</td>\n",
       "      <td>0.0</td>\n",
       "    </tr>\n",
       "  </tbody>\n",
       "</table>\n",
       "<p>5 rows × 224 columns</p>\n",
       "</div>"
      ],
      "text/plain": [
       "                                           name   latitude  longitude  \\\n",
       "0                             120 Raglan Avenue  43.686516 -79.421005   \n",
       "1                         310-312 Lonsdale Road  43.689224 -79.411199   \n",
       "2                                35 Walmer Road  43.668877 -79.405555   \n",
       "3                               50 Spadina Road  43.669070 -79.404672   \n",
       "4  730 Dovercourt Road - Doversquare Apartments  43.660713 -79.429237   \n",
       "\n",
       "                                                 url location  24HMaintenance  \\\n",
       "0          https://rentals.ca/york/120-raglan-avenue     York             0.0   \n",
       "1   https://rentals.ca/toronto/310-312-lonsdale-road  Toronto             0.0   \n",
       "2          https://rentals.ca/toronto/35-walmer-road  Toronto             0.0   \n",
       "3         https://rentals.ca/toronto/50-spadina-road  Toronto             0.0   \n",
       "4  https://rentals.ca/toronto/730-dovercourt-road...  Toronto             0.0   \n",
       "\n",
       "   24HOnSiteSecurity  24HSurveillance  24hEmergency  24hSecurity  ...  \\\n",
       "0                0.0              0.0           0.0          0.0  ...   \n",
       "1                0.0              0.0           0.0          0.0  ...   \n",
       "2                0.0              0.0           0.0          0.0  ...   \n",
       "3                0.0              0.0           0.0          0.0  ...   \n",
       "4                0.0              0.0           0.0          0.0  ...   \n",
       "\n",
       "   WindowAirConditioner  WindowCoverings  WineFridge  freezerincluded  \\\n",
       "0                   0.0              0.0         0.0              0.0   \n",
       "1                   0.0              0.0         0.0              0.0   \n",
       "2                   0.0              0.0         0.0              0.0   \n",
       "3                   0.0              0.0         0.0              0.0   \n",
       "4                   0.0              0.0         0.0              0.0   \n",
       "\n",
       "   fridgeincluded  gym  internetavailable  meetingroom  ovenincluded  \\\n",
       "0             0.0  0.0                0.0          0.0           0.0   \n",
       "1             0.0  0.0                0.0          0.0           0.0   \n",
       "2             0.0  0.0                0.0          0.0           0.0   \n",
       "3             0.0  0.0                0.0          0.0           0.0   \n",
       "4             0.0  0.0                0.0          0.0           0.0   \n",
       "\n",
       "   smokerfriendly  \n",
       "0             0.0  \n",
       "1             0.0  \n",
       "2             0.0  \n",
       "3             0.0  \n",
       "4             0.0  \n",
       "\n",
       "[5 rows x 224 columns]"
      ]
     },
     "execution_count": 18,
     "metadata": {},
     "output_type": "execute_result"
    }
   ],
   "source": [
    "test_df.head()"
   ]
  },
  {
   "cell_type": "code",
   "execution_count": 19,
   "metadata": {},
   "outputs": [
    {
     "data": {
      "text/plain": [
       "(7142, 228)"
      ]
     },
     "execution_count": 19,
     "metadata": {},
     "output_type": "execute_result"
    }
   ],
   "source": [
    "#Merge the processed data together\n",
    "processed_rental = pd.merge(concat_result_3,test_df,on=['url'])\n",
    "processed_rental.shape"
   ]
  },
  {
   "cell_type": "code",
   "execution_count": 20,
   "metadata": {},
   "outputs": [
    {
     "data": {
      "text/html": [
       "<div>\n",
       "<style scoped>\n",
       "    .dataframe tbody tr th:only-of-type {\n",
       "        vertical-align: middle;\n",
       "    }\n",
       "\n",
       "    .dataframe tbody tr th {\n",
       "        vertical-align: top;\n",
       "    }\n",
       "\n",
       "    .dataframe thead th {\n",
       "        text-align: right;\n",
       "    }\n",
       "</style>\n",
       "<table border=\"1\" class=\"dataframe\">\n",
       "  <thead>\n",
       "    <tr style=\"text-align: right;\">\n",
       "      <th></th>\n",
       "      <th>price</th>\n",
       "      <th>url</th>\n",
       "      <th>room_type</th>\n",
       "      <th>bedroom_num</th>\n",
       "      <th>bathroom_num</th>\n",
       "      <th>name</th>\n",
       "      <th>latitude</th>\n",
       "      <th>longitude</th>\n",
       "      <th>location</th>\n",
       "      <th>24HMaintenance</th>\n",
       "      <th>...</th>\n",
       "      <th>WindowAirConditioner</th>\n",
       "      <th>WindowCoverings</th>\n",
       "      <th>WineFridge</th>\n",
       "      <th>freezerincluded</th>\n",
       "      <th>fridgeincluded</th>\n",
       "      <th>gym</th>\n",
       "      <th>internetavailable</th>\n",
       "      <th>meetingroom</th>\n",
       "      <th>ovenincluded</th>\n",
       "      <th>smokerfriendly</th>\n",
       "    </tr>\n",
       "  </thead>\n",
       "  <tbody>\n",
       "    <tr>\n",
       "      <th>0</th>\n",
       "      <td>1864.0</td>\n",
       "      <td>https://rentals.ca/york/120-raglan-avenue</td>\n",
       "      <td>Jr. 1 Bedroom</td>\n",
       "      <td>1.0</td>\n",
       "      <td>1.0</td>\n",
       "      <td>120 Raglan Avenue</td>\n",
       "      <td>43.686516</td>\n",
       "      <td>-79.421005</td>\n",
       "      <td>York</td>\n",
       "      <td>0.0</td>\n",
       "      <td>...</td>\n",
       "      <td>0.0</td>\n",
       "      <td>0.0</td>\n",
       "      <td>0.0</td>\n",
       "      <td>0.0</td>\n",
       "      <td>0.0</td>\n",
       "      <td>0.0</td>\n",
       "      <td>0.0</td>\n",
       "      <td>0.0</td>\n",
       "      <td>0.0</td>\n",
       "      <td>0.0</td>\n",
       "    </tr>\n",
       "    <tr>\n",
       "      <th>1</th>\n",
       "      <td>2003.0</td>\n",
       "      <td>https://rentals.ca/york/120-raglan-avenue</td>\n",
       "      <td>1 Bedroom</td>\n",
       "      <td>1.0</td>\n",
       "      <td>1.0</td>\n",
       "      <td>120 Raglan Avenue</td>\n",
       "      <td>43.686516</td>\n",
       "      <td>-79.421005</td>\n",
       "      <td>York</td>\n",
       "      <td>0.0</td>\n",
       "      <td>...</td>\n",
       "      <td>0.0</td>\n",
       "      <td>0.0</td>\n",
       "      <td>0.0</td>\n",
       "      <td>0.0</td>\n",
       "      <td>0.0</td>\n",
       "      <td>0.0</td>\n",
       "      <td>0.0</td>\n",
       "      <td>0.0</td>\n",
       "      <td>0.0</td>\n",
       "      <td>0.0</td>\n",
       "    </tr>\n",
       "    <tr>\n",
       "      <th>2</th>\n",
       "      <td>2347.0</td>\n",
       "      <td>https://rentals.ca/york/120-raglan-avenue</td>\n",
       "      <td>2 Bedroom</td>\n",
       "      <td>2.0</td>\n",
       "      <td>1.0</td>\n",
       "      <td>120 Raglan Avenue</td>\n",
       "      <td>43.686516</td>\n",
       "      <td>-79.421005</td>\n",
       "      <td>York</td>\n",
       "      <td>0.0</td>\n",
       "      <td>...</td>\n",
       "      <td>0.0</td>\n",
       "      <td>0.0</td>\n",
       "      <td>0.0</td>\n",
       "      <td>0.0</td>\n",
       "      <td>0.0</td>\n",
       "      <td>0.0</td>\n",
       "      <td>0.0</td>\n",
       "      <td>0.0</td>\n",
       "      <td>0.0</td>\n",
       "      <td>0.0</td>\n",
       "    </tr>\n",
       "    <tr>\n",
       "      <th>3</th>\n",
       "      <td>2134.0</td>\n",
       "      <td>https://rentals.ca/toronto/310-312-lonsdale-road</td>\n",
       "      <td>1 Bedroom</td>\n",
       "      <td>1.0</td>\n",
       "      <td>1.0</td>\n",
       "      <td>310-312 Lonsdale Road</td>\n",
       "      <td>43.689224</td>\n",
       "      <td>-79.411199</td>\n",
       "      <td>Toronto</td>\n",
       "      <td>0.0</td>\n",
       "      <td>...</td>\n",
       "      <td>0.0</td>\n",
       "      <td>0.0</td>\n",
       "      <td>0.0</td>\n",
       "      <td>0.0</td>\n",
       "      <td>0.0</td>\n",
       "      <td>0.0</td>\n",
       "      <td>0.0</td>\n",
       "      <td>0.0</td>\n",
       "      <td>0.0</td>\n",
       "      <td>0.0</td>\n",
       "    </tr>\n",
       "    <tr>\n",
       "      <th>4</th>\n",
       "      <td>2475.0</td>\n",
       "      <td>https://rentals.ca/toronto/310-312-lonsdale-road</td>\n",
       "      <td>2 Bedroom</td>\n",
       "      <td>2.0</td>\n",
       "      <td>1.0</td>\n",
       "      <td>310-312 Lonsdale Road</td>\n",
       "      <td>43.689224</td>\n",
       "      <td>-79.411199</td>\n",
       "      <td>Toronto</td>\n",
       "      <td>0.0</td>\n",
       "      <td>...</td>\n",
       "      <td>0.0</td>\n",
       "      <td>0.0</td>\n",
       "      <td>0.0</td>\n",
       "      <td>0.0</td>\n",
       "      <td>0.0</td>\n",
       "      <td>0.0</td>\n",
       "      <td>0.0</td>\n",
       "      <td>0.0</td>\n",
       "      <td>0.0</td>\n",
       "      <td>0.0</td>\n",
       "    </tr>\n",
       "  </tbody>\n",
       "</table>\n",
       "<p>5 rows × 228 columns</p>\n",
       "</div>"
      ],
      "text/plain": [
       "    price                                               url      room_type  \\\n",
       "0  1864.0         https://rentals.ca/york/120-raglan-avenue  Jr. 1 Bedroom   \n",
       "1  2003.0         https://rentals.ca/york/120-raglan-avenue      1 Bedroom   \n",
       "2  2347.0         https://rentals.ca/york/120-raglan-avenue      2 Bedroom   \n",
       "3  2134.0  https://rentals.ca/toronto/310-312-lonsdale-road      1 Bedroom   \n",
       "4  2475.0  https://rentals.ca/toronto/310-312-lonsdale-road      2 Bedroom   \n",
       "\n",
       "   bedroom_num  bathroom_num                   name   latitude  longitude  \\\n",
       "0          1.0           1.0      120 Raglan Avenue  43.686516 -79.421005   \n",
       "1          1.0           1.0      120 Raglan Avenue  43.686516 -79.421005   \n",
       "2          2.0           1.0      120 Raglan Avenue  43.686516 -79.421005   \n",
       "3          1.0           1.0  310-312 Lonsdale Road  43.689224 -79.411199   \n",
       "4          2.0           1.0  310-312 Lonsdale Road  43.689224 -79.411199   \n",
       "\n",
       "  location  24HMaintenance  ...  WindowAirConditioner  WindowCoverings  \\\n",
       "0     York             0.0  ...                   0.0              0.0   \n",
       "1     York             0.0  ...                   0.0              0.0   \n",
       "2     York             0.0  ...                   0.0              0.0   \n",
       "3  Toronto             0.0  ...                   0.0              0.0   \n",
       "4  Toronto             0.0  ...                   0.0              0.0   \n",
       "\n",
       "   WineFridge  freezerincluded  fridgeincluded  gym  internetavailable  \\\n",
       "0         0.0              0.0             0.0  0.0                0.0   \n",
       "1         0.0              0.0             0.0  0.0                0.0   \n",
       "2         0.0              0.0             0.0  0.0                0.0   \n",
       "3         0.0              0.0             0.0  0.0                0.0   \n",
       "4         0.0              0.0             0.0  0.0                0.0   \n",
       "\n",
       "   meetingroom  ovenincluded  smokerfriendly  \n",
       "0          0.0           0.0             0.0  \n",
       "1          0.0           0.0             0.0  \n",
       "2          0.0           0.0             0.0  \n",
       "3          0.0           0.0             0.0  \n",
       "4          0.0           0.0             0.0  \n",
       "\n",
       "[5 rows x 228 columns]"
      ]
     },
     "execution_count": 20,
     "metadata": {},
     "output_type": "execute_result"
    }
   ],
   "source": [
    "processed_rental.head()"
   ]
  },
  {
   "cell_type": "code",
   "execution_count": 21,
   "metadata": {},
   "outputs": [],
   "source": [
    "# def convert_bedroom(room):\n",
    "#     room = re.sub('[^a-zA-Z0-9 \\n\\.]', ' ', room)\n",
    "    \n",
    "#     if len(room.split()) == 1:\n",
    "#         if room.startswith('1BR'):\n",
    "#             return 1\n",
    "#         elif room.startswith('2BR'):\n",
    "#             return 2\n",
    "#         elif room.startswith('3BR'):\n",
    "#             return 3\n",
    "#     else:\n",
    "#         if (room.split()[0] == '1' or room.split()[0].lower() == 'one' or room.split()[0] == '1.0' or\n",
    "#             room.split()[1] == '1' or room.split()[1].lower() == 'one' or room.startswith('1BR') or\n",
    "#             room.split()[1] == '1BR' or room == '2304 Weston Rd   Plan I' or room == 'Garden Villas'):\n",
    "#             return 1\n",
    "#         if (room.split()[0] == '2' or room.split()[0].lower() == 'two' or room.split()[0] == '2.0' or\n",
    "#             room.split()[1] == '2' or room.split()[1].lower() == 'two' or room.startswith('2BR') or\n",
    "#             room.split()[1] == '2BR' or room == '2336 Weston Rd   Plan A' or room == 'Garden Villa 2 bedroom suite'):\n",
    "#             return 2\n",
    "#         if (room.split()[0] == '3' or room.split()[0].lower() == 'three' or room.split()[0] == '3.0' or\n",
    "#             room.split()[1] == '3' or room.split()[1].lower() == 'three' or room.startswith('3BR') or\n",
    "#             room.split()[1] == '3BR'):\n",
    "#             return 3\n",
    "#         if (room.split()[0] == '4' or room.split()[0].lower() == 'four' or room.split()[0] == '4.0' or\n",
    "#             room.split()[1] == '4' or room.split()[1].lower() == 'four' or room.startswith('4BR')):\n",
    "#             return 4\n",
    "#         if room.split()[0] == '5':\n",
    "#             return 5\n",
    "#         if room.split()[0] == '6':\n",
    "#             return 6\n",
    "#         if (room.split()[0] == '0' or room.split()[0] == '0.0' or room.split()[0] == '0.5' or\n",
    "#             room.startswith('Bachelor') or room == 'Furnished Studio' or room == '4K Spadina Avenue' or\n",
    "#            room == '461 Adelaide Street West' or room == '25 Lower Simcoe' or room == 'Condo Unit' or\n",
    "#            room == '637 Lakeshore Blvd'):\n",
    "#             return 0.5\n",
    "#         if room == '1.5 Bedroom' or room == 'Jr Suite':\n",
    "#             return 1.5\n",
    "#         if room == '2.5 Bedroom':\n",
    "#             return 2.5\n",
    "#         if room == '3.5 Bedroom':\n",
    "#             return 3.5\n",
    "#         if room == '4.5 Bedroom':\n",
    "#             return 4.5\n",
    "#         else:\n",
    "#             return room"
   ]
  },
  {
   "cell_type": "code",
   "execution_count": 22,
   "metadata": {},
   "outputs": [],
   "source": [
    "# processed_rental['bedroom_num'] = processed_rental.room_type.apply(lambda x: convert_bedroom(x))\n",
    "# processed_rental['bedroom_num'] = processed_rental['bedroom_num'].fillna(value=0)"
   ]
  },
  {
   "cell_type": "code",
   "execution_count": 23,
   "metadata": {},
   "outputs": [
    {
     "data": {
      "text/plain": [
       "0"
      ]
     },
     "execution_count": 23,
     "metadata": {},
     "output_type": "execute_result"
    }
   ],
   "source": [
    "#Remove duplicates\n",
    "processed_rental = processed_rental.drop_duplicates()\n",
    "sum(processed_rental.duplicated())"
   ]
  },
  {
   "cell_type": "code",
   "execution_count": 24,
   "metadata": {},
   "outputs": [
    {
     "data": {
      "image/png": "[encoded data removed]",
      "text/plain": [
       "<Figure size 1440x576 with 1 Axes>"
      ]
     },
     "metadata": {
      "needs_background": "light"
     },
     "output_type": "display_data"
    }
   ],
   "source": [
    "#Plot bedroom counts\n",
    "plt.figure(figsize=(20, 8))\n",
    "count_plot = sns.countplot(processed_rental.bedroom_num)\n",
    "for item in count_plot.get_xticklabels():\n",
    "    item.set_rotation(45)\n",
    "count_plot.tick_params(labelsize=15)\n",
    "for p in count_plot.patches:\n",
    "    height = p.get_height()\n",
    "    count_plot.text(p.get_x()+p.get_width()/2., height,height,ha=\"center\")\n",
    "plt.title(\"Count of bedrooms\", fontsize = 15)\n",
    "plt.show()"
   ]
  },
  {
   "cell_type": "code",
   "execution_count": 25,
   "metadata": {},
   "outputs": [
    {
     "data": {
      "text/plain": [
       "array(['York', 'Toronto', 'NorthYork', 'Etobicoke', 'Scarborough',\n",
       "       'EastYork', 'Markham', 'Thornhill', 'Mississauga', 'Vaughan',\n",
       "       'Concord'], dtype=object)"
      ]
     },
     "execution_count": 25,
     "metadata": {},
     "output_type": "execute_result"
    }
   ],
   "source": [
    "processed_rental.location.unique()"
   ]
  },
  {
   "cell_type": "code",
   "execution_count": 26,
   "metadata": {},
   "outputs": [
    {
     "data": {
      "text/plain": [
       "('990.0', '1.0')"
      ]
     },
     "execution_count": 26,
     "metadata": {},
     "output_type": "execute_result"
    }
   ],
   "source": [
    "max(processed_rental.price), min(processed_rental.price)"
   ]
  },
  {
   "cell_type": "code",
   "execution_count": 27,
   "metadata": {},
   "outputs": [
    {
     "data": {
      "image/png": "[encoded data removed]",
      "text/plain": [
       "<Figure size 1440x576 with 1 Axes>"
      ]
     },
     "metadata": {},
     "output_type": "display_data"
    }
   ],
   "source": [
    "sns.set_style(\"whitegrid\")\n",
    "plt.figure(figsize=(20, 8))\n",
    "count_plot = sns.countplot(processed_rental.location)\n",
    "for item in count_plot.get_xticklabels():\n",
    "    item.set_rotation(45)\n",
    "count_plot.tick_params(labelsize=15)\n",
    "plt.title(\"Count of location\", fontsize = 15)\n",
    "for p in count_plot.patches:\n",
    "    height = p.get_height()\n",
    "    count_plot.text(p.get_x()+p.get_width()/2., height,height,ha=\"center\")\n",
    "plt.show()"
   ]
  },
  {
   "cell_type": "code",
   "execution_count": 28,
   "metadata": {},
   "outputs": [],
   "source": [
    "processed_rental.price = processed_rental.price.astype(float)"
   ]
  },
  {
   "cell_type": "code",
   "execution_count": 29,
   "metadata": {},
   "outputs": [
    {
     "data": {
      "text/html": [
       "<div>\n",
       "<style scoped>\n",
       "    .dataframe tbody tr th:only-of-type {\n",
       "        vertical-align: middle;\n",
       "    }\n",
       "\n",
       "    .dataframe tbody tr th {\n",
       "        vertical-align: top;\n",
       "    }\n",
       "\n",
       "    .dataframe thead th {\n",
       "        text-align: right;\n",
       "    }\n",
       "</style>\n",
       "<table border=\"1\" class=\"dataframe\">\n",
       "  <thead>\n",
       "    <tr style=\"text-align: right;\">\n",
       "      <th></th>\n",
       "      <th>price</th>\n",
       "      <th>url</th>\n",
       "      <th>room_type</th>\n",
       "      <th>bedroom_num</th>\n",
       "      <th>bathroom_num</th>\n",
       "      <th>name</th>\n",
       "      <th>latitude</th>\n",
       "      <th>longitude</th>\n",
       "      <th>location</th>\n",
       "      <th>24HMaintenance</th>\n",
       "      <th>...</th>\n",
       "      <th>WindowAirConditioner</th>\n",
       "      <th>WindowCoverings</th>\n",
       "      <th>WineFridge</th>\n",
       "      <th>freezerincluded</th>\n",
       "      <th>fridgeincluded</th>\n",
       "      <th>gym</th>\n",
       "      <th>internetavailable</th>\n",
       "      <th>meetingroom</th>\n",
       "      <th>ovenincluded</th>\n",
       "      <th>smokerfriendly</th>\n",
       "    </tr>\n",
       "  </thead>\n",
       "  <tbody>\n",
       "    <tr>\n",
       "      <th>4991</th>\n",
       "      <td>1.0</td>\n",
       "      <td>https://rentals.ca/toronto/972-bathurst-st-unit-2</td>\n",
       "      <td>None</td>\n",
       "      <td>3.0</td>\n",
       "      <td>2.0</td>\n",
       "      <td>972 Bathurst St | Unit: 2</td>\n",
       "      <td>43.669755</td>\n",
       "      <td>-79.41323</td>\n",
       "      <td>Toronto</td>\n",
       "      <td>0.0</td>\n",
       "      <td>...</td>\n",
       "      <td>0.0</td>\n",
       "      <td>0.0</td>\n",
       "      <td>0.0</td>\n",
       "      <td>0.0</td>\n",
       "      <td>0.0</td>\n",
       "      <td>0.0</td>\n",
       "      <td>0.0</td>\n",
       "      <td>0.0</td>\n",
       "      <td>0.0</td>\n",
       "      <td>0.0</td>\n",
       "    </tr>\n",
       "    <tr>\n",
       "      <th>5236</th>\n",
       "      <td>1.0</td>\n",
       "      <td>https://rentals.ca/toronto/972-bathurst-st-unit-1</td>\n",
       "      <td>None</td>\n",
       "      <td>1.0</td>\n",
       "      <td>1.0</td>\n",
       "      <td>972 Bathurst St | Unit: 1</td>\n",
       "      <td>43.669755</td>\n",
       "      <td>-79.41323</td>\n",
       "      <td>Toronto</td>\n",
       "      <td>0.0</td>\n",
       "      <td>...</td>\n",
       "      <td>0.0</td>\n",
       "      <td>0.0</td>\n",
       "      <td>0.0</td>\n",
       "      <td>0.0</td>\n",
       "      <td>0.0</td>\n",
       "      <td>0.0</td>\n",
       "      <td>0.0</td>\n",
       "      <td>0.0</td>\n",
       "      <td>0.0</td>\n",
       "      <td>0.0</td>\n",
       "    </tr>\n",
       "  </tbody>\n",
       "</table>\n",
       "<p>2 rows × 228 columns</p>\n",
       "</div>"
      ],
      "text/plain": [
       "      price                                                url room_type  \\\n",
       "4991    1.0  https://rentals.ca/toronto/972-bathurst-st-unit-2      None   \n",
       "5236    1.0  https://rentals.ca/toronto/972-bathurst-st-unit-1      None   \n",
       "\n",
       "      bedroom_num  bathroom_num                       name   latitude  \\\n",
       "4991          3.0           2.0  972 Bathurst St | Unit: 2  43.669755   \n",
       "5236          1.0           1.0  972 Bathurst St | Unit: 1  43.669755   \n",
       "\n",
       "      longitude location  24HMaintenance  ...  WindowAirConditioner  \\\n",
       "4991  -79.41323  Toronto             0.0  ...                   0.0   \n",
       "5236  -79.41323  Toronto             0.0  ...                   0.0   \n",
       "\n",
       "      WindowCoverings  WineFridge  freezerincluded  fridgeincluded  gym  \\\n",
       "4991              0.0         0.0              0.0             0.0  0.0   \n",
       "5236              0.0         0.0              0.0             0.0  0.0   \n",
       "\n",
       "      internetavailable  meetingroom  ovenincluded  smokerfriendly  \n",
       "4991                0.0          0.0           0.0             0.0  \n",
       "5236                0.0          0.0           0.0             0.0  \n",
       "\n",
       "[2 rows x 228 columns]"
      ]
     },
     "execution_count": 29,
     "metadata": {},
     "output_type": "execute_result"
    }
   ],
   "source": [
    "processed_rental[processed_rental['price'] == 1]"
   ]
  },
  {
   "cell_type": "code",
   "execution_count": 30,
   "metadata": {},
   "outputs": [],
   "source": [
    "def div_region(col, num_of_region = 10):\n",
    "    final = {}\n",
    "    max_num, min_num = 7741.5, 300\n",
    "    interegion = (max_num - min_num)/10\n",
    "    start = min_num\n",
    "    for i in range(10):\n",
    "        num = sum(col <= start + interegion) - sum(col <= start)\n",
    "        final[str(round(start, 2)) + \" ~ \" + str(round(start + interegion, 2))] = num\n",
    "        start += interegion\n",
    "    return final"
   ]
  },
  {
   "cell_type": "code",
   "execution_count": 31,
   "metadata": {},
   "outputs": [
    {
     "data": {
      "text/plain": [
       "2"
      ]
     },
     "execution_count": 31,
     "metadata": {},
     "output_type": "execute_result"
    }
   ],
   "source": [
    "sum(processed_rental['price'] <= 300)"
   ]
  },
  {
   "cell_type": "code",
   "execution_count": 32,
   "metadata": {},
   "outputs": [
    {
     "data": {
      "text/plain": [
       "{'300 ~ 1044.15': 133,\n",
       " '1044.15 ~ 1788.3': 802,\n",
       " '1788.3 ~ 2532.45': 3672,\n",
       " '2532.45 ~ 3276.6': 1570,\n",
       " '3276.6 ~ 4020.75': 587,\n",
       " '4020.75 ~ 4764.9': 123,\n",
       " '4764.9 ~ 5509.05': 66,\n",
       " '5509.05 ~ 6253.2': 32,\n",
       " '6253.2 ~ 6997.35': 25,\n",
       " '6997.35 ~ 7741.5': 13}"
      ]
     },
     "execution_count": 32,
     "metadata": {},
     "output_type": "execute_result"
    }
   ],
   "source": [
    "div_region(processed_rental.price)"
   ]
  },
  {
   "cell_type": "markdown",
   "metadata": {},
   "source": [
    "#### Add Den column"
   ]
  },
  {
   "cell_type": "code",
   "execution_count": 33,
   "metadata": {},
   "outputs": [],
   "source": [
    "den_col = []\n",
    "for room in list(processed_rental.room_type.str.lower()):\n",
    "    if \"den\" in room:\n",
    "        den_col.append(1)\n",
    "    else:\n",
    "        den_col.append(0)\n",
    "processed_rental['HasDen'] = den_col"
   ]
  },
  {
   "cell_type": "markdown",
   "metadata": {},
   "source": [
    "#### Cat, Dog and Pet Friendly Column\n",
    "- Since Cat friendly and dog friendly columns are identical, we can keep one the column and rename it cat_dogFriendly.\n",
    "- Pet Friendly column contains all cat and dog friendly column but even more\n",
    "- We would just keep pet friendly column and discard cat and dog column"
   ]
  },
  {
   "cell_type": "code",
   "execution_count": 34,
   "metadata": {},
   "outputs": [],
   "source": [
    "processed_rental = processed_rental.drop(columns = ['DogFriendly', 'CatFriendly'])"
   ]
  },
  {
   "cell_type": "markdown",
   "metadata": {},
   "source": [
    "#### Dishwasher and DishwasherAvaliable column\n",
    "#### Recreation and RecreationRoom column\n",
    "\n",
    "#### 'FitnessArea', 'FitnessCentre','FitnessRoom' column\n",
    "\n",
    "- Both column contains records that are not in each other's column. Since they are representing the same thing, we combine them together"
   ]
  },
  {
   "cell_type": "code",
   "execution_count": 35,
   "metadata": {},
   "outputs": [],
   "source": [
    "def process_dishwasher(x):\n",
    "    if x['Dishwasher'] == 1 or x['DishwasherAvailable'] == 1:\n",
    "        return 1\n",
    "    else:\n",
    "        return 0\n",
    "\n",
    "processed_rental['DishWasher_ava'] = processed_rental.apply(lambda x: process_dishwasher(x), axis = 1)\n",
    "processed_rental = processed_rental.drop(columns=['Dishwasher', 'DishwasherAvailable'])"
   ]
  },
  {
   "cell_type": "code",
   "execution_count": 36,
   "metadata": {},
   "outputs": [],
   "source": [
    "def process_recreation(x):\n",
    "    if x['RecreationRoom'] == 1 or x['Recreation'] == 1:\n",
    "        return 1\n",
    "    else:\n",
    "        return 0\n",
    "\n",
    "processed_rental['Recreation_ava'] = processed_rental.apply(lambda x: process_recreation(x), axis = 1)\n",
    "processed_rental = processed_rental.drop(columns=['Recreation', 'RecreationRoom'])"
   ]
  },
  {
   "cell_type": "code",
   "execution_count": 37,
   "metadata": {},
   "outputs": [],
   "source": [
    "def process_fitness(x):\n",
    "    if (x['FitnessArea'] == 1 or x['FitnessCentre'] == 1 or x['FitnessRoom'] == 1 or \n",
    "        x['Recreation_ava'] == 1  or x['Gym'] == 1 or x['gym'] == 1 or x['BikeRoom'] == 1 or\n",
    "       x['ExerciseRoom'] == 1):\n",
    "        return 1\n",
    "    else:\n",
    "        return 0\n",
    "\n",
    "processed_rental['Recreation_ava'] = processed_rental.apply(lambda x: process_fitness(x), axis = 1)\n",
    "processed_rental = processed_rental.drop(columns=['FitnessArea', 'FitnessCentre', 'FitnessRoom', 'Gym', 'gym'\n",
    "                                                  , 'BikeRoom', 'ExerciseRoom'])"
   ]
  },
  {
   "cell_type": "markdown",
   "metadata": {},
   "source": [
    "#### OutDoorPlayArea and outdoorplayground, playground and playgroundpark\n",
    "\n",
    "- Outdoor play area contains all outdoor playground and they are the same meaning\n",
    "- delete outdoor playground column\n",
    "- merge all others"
   ]
  },
  {
   "cell_type": "code",
   "execution_count": 38,
   "metadata": {},
   "outputs": [],
   "source": [
    "processed_rental = processed_rental.drop(columns=['OutdoorPlayground'])"
   ]
  },
  {
   "cell_type": "code",
   "execution_count": 39,
   "metadata": {},
   "outputs": [],
   "source": [
    "def process_playground(x):\n",
    "    if x['Playground'] == 1 or x['OutdoorPlayArea'] == 1 or x['PlaygroundPark'] == 1:\n",
    "        return 1\n",
    "    else:\n",
    "        return 0\n",
    "\n",
    "processed_rental['Playground_ava'] = processed_rental.apply(lambda x: process_playground(x), axis = 1)\n",
    "processed_rental = processed_rental.drop(columns=['OutdoorPlayArea', 'PlaygroundPark', 'Playground'])"
   ]
  },
  {
   "cell_type": "markdown",
   "metadata": {},
   "source": [
    "#### 'freezerincluded', 'fridgeincluded', 'Refrigerator' ,'Freezer' column\n",
    "#### 'shopping & shopping centre' , 'school and schools'\n",
    " - Merge them all"
   ]
  },
  {
   "cell_type": "code",
   "execution_count": 40,
   "metadata": {},
   "outputs": [],
   "source": [
    "def process_fridge(x):\n",
    "    if x['freezerincluded'] == 1 or x['fridgeincluded'] == 1 or x['Refrigerator'] == 1 or x['Freezer']==1 or x['Fridge'] == 1:\n",
    "        return 1\n",
    "    else:\n",
    "        return 0\n",
    "\n",
    "processed_rental['fridge_ava'] = processed_rental.apply(lambda x: process_fridge(x), axis = 1)\n",
    "processed_rental = processed_rental.drop(columns=['Refrigerator', 'fridgeincluded', 'freezerincluded','Freezer', 'Fridge'])"
   ]
  },
  {
   "cell_type": "code",
   "execution_count": 41,
   "metadata": {},
   "outputs": [],
   "source": [
    "def process_shopping(x):\n",
    "    if x['Shopping'] == 1 or x['ShoppingCentre'] == 1 or x['ConvenienceStore'] == 1:\n",
    "        return 1\n",
    "    else:\n",
    "        return 0\n",
    "\n",
    "processed_rental['Shopping_ava'] = processed_rental.apply(lambda x: process_shopping(x), axis = 1)\n",
    "processed_rental = processed_rental.drop(columns=['Shopping', 'ShoppingCentre', 'ConvenienceStore'])"
   ]
  },
  {
   "cell_type": "code",
   "execution_count": 42,
   "metadata": {},
   "outputs": [],
   "source": [
    "def process_school(x):\n",
    "    if x['Schools'] == 1 or x['School'] == 1:\n",
    "        return 1\n",
    "    else:\n",
    "        return 0\n",
    "\n",
    "processed_rental['School_ava'] = processed_rental.apply(lambda x: process_school(x), axis = 1)\n",
    "processed_rental = processed_rental.drop(columns=['Schools', 'School'])"
   ]
  },
  {
   "cell_type": "code",
   "execution_count": 43,
   "metadata": {},
   "outputs": [],
   "source": [
    "def process_balcony(x):\n",
    "    if x['Balcony'] == 1 or x['Balconies'] == 1:\n",
    "        return 1\n",
    "    else:\n",
    "        return 0\n",
    "\n",
    "processed_rental['Balcony_ava'] = processed_rental.apply(lambda x: process_balcony(x), axis = 1)\n",
    "processed_rental = processed_rental.drop(columns=['Balcony', 'Balconies'])"
   ]
  },
  {
   "cell_type": "code",
   "execution_count": 44,
   "metadata": {},
   "outputs": [],
   "source": [
    "def process_bbq(x):\n",
    "    if x['BbqAreaCourtyard'] == 1 or x['BbqGrill'] == 1:\n",
    "        return 1\n",
    "    else:\n",
    "        return 0\n",
    "\n",
    "processed_rental['Bbq_ava'] = processed_rental.apply(lambda x: process_bbq(x), axis = 1)\n",
    "processed_rental = processed_rental.drop(columns=['BbqAreaCourtyard', 'BbqGrill'])"
   ]
  },
  {
   "cell_type": "code",
   "execution_count": 45,
   "metadata": {},
   "outputs": [],
   "source": [
    "def process_bike(x):\n",
    "    if x['BikeTrail'] == 1 or x['BikeTrails'] == 1 or x['BikeRacks'] == 1:\n",
    "        return 1\n",
    "    else:\n",
    "        return 0\n",
    "\n",
    "processed_rental['Biketrail_ava'] = processed_rental.apply(lambda x: process_bike(x), axis = 1)\n",
    "processed_rental = processed_rental.drop(columns=['BikeTrail', 'BikeTrails', 'BikeRacks'])"
   ]
  },
  {
   "cell_type": "code",
   "execution_count": 46,
   "metadata": {},
   "outputs": [],
   "source": [
    "def process_elevator(x):\n",
    "    if x['Elevator'] == 1 or x['Elevators'] == 1:\n",
    "        return 1\n",
    "    else:\n",
    "        return 0\n",
    "\n",
    "processed_rental['Elevator_ava'] = processed_rental.apply(lambda x: process_elevator(x), axis = 1)\n",
    "processed_rental = processed_rental.drop(columns=['Elevator', 'Elevators'])"
   ]
  },
  {
   "cell_type": "code",
   "execution_count": 47,
   "metadata": {},
   "outputs": [],
   "source": [
    "def process_insuitelaundry(x):\n",
    "    if x['EnsuiteLaundry'] == 1 or x['InSuiteLaundry'] == 1:\n",
    "        return 1\n",
    "    else:\n",
    "        return 0\n",
    "\n",
    "processed_rental['InSuiteLaundry_ava'] = processed_rental.apply(lambda x: process_insuitelaundry(x), axis = 1)\n",
    "processed_rental = processed_rental.drop(columns=['EnsuiteLaundry', 'InSuiteLaundry'])"
   ]
  },
  {
   "cell_type": "code",
   "execution_count": 48,
   "metadata": {},
   "outputs": [],
   "source": [
    "def process_laundryroom(x):\n",
    "    if x['LaundryRoom'] == 1 or x['LaundryFacilities'] == 1 or x['CardLaundry'] == 1: \n",
    "        return 1\n",
    "    else:\n",
    "        return 0\n",
    "\n",
    "processed_rental['LaundryRoom_ava'] = processed_rental.apply(lambda x: process_laundryroom(x), axis = 1)\n",
    "processed_rental = processed_rental.drop(columns=['LaundryRoom', 'LaundryFacilities', 'CardLaundry'])"
   ]
  },
  {
   "cell_type": "code",
   "execution_count": 49,
   "metadata": {},
   "outputs": [],
   "source": [
    "def process_underparking(x):\n",
    "    if x['ParkingUnderground'] == 1 or x['UndergroundParking'] == 1 or x['ParkingCovered'] == 1 or x['ParkingIndoor'] == 1 or x['ParkingCarport'] == 1:\n",
    "        return 1\n",
    "    else:\n",
    "        return 0\n",
    "\n",
    "processed_rental['Parkingindoor_ava'] = processed_rental.apply(lambda x: process_underparking(x), axis = 1)\n",
    "processed_rental = processed_rental.drop(columns=['ParkingUnderground', 'UndergroundParking', 'ParkingCovered', 'ParkingIndoor', 'ParkingCarport'])"
   ]
  },
  {
   "cell_type": "code",
   "execution_count": 50,
   "metadata": {},
   "outputs": [],
   "source": [
    "def process_rooftoppool(x):\n",
    "    if x['PoolRooftop'] == 1 or x['RooftopPool'] == 1:\n",
    "        return 1\n",
    "    else:\n",
    "        return 0\n",
    "\n",
    "processed_rental['RooftopPool_ava'] = processed_rental.apply(lambda x: process_rooftoppool(x), axis = 1)\n",
    "processed_rental = processed_rental.drop(columns=['PoolRooftop', 'RooftopPool'])"
   ]
  },
  {
   "cell_type": "code",
   "execution_count": 51,
   "metadata": {},
   "outputs": [],
   "source": [
    "def process_Manager(x):\n",
    "    if x['OnSiteResidentManagers'] == 1 or x['OnsiteManagement'] == 1 or x['ProfessionallyManaged'] == 1 or x['ResidentManagers'] == 1:\n",
    "        return 1\n",
    "    else:\n",
    "        return 0\n",
    "\n",
    "processed_rental['Manager_ava'] = processed_rental.apply(lambda x: process_Manager(x), axis = 1)\n",
    "processed_rental = processed_rental.drop(columns=['OnSiteResidentManagers', 'OnsiteManagement'\n",
    "                                                  ,'ProfessionallyManaged','ResidentManagers'])"
   ]
  },
  {
   "cell_type": "code",
   "execution_count": 52,
   "metadata": {},
   "outputs": [],
   "source": [
    "def process_storage(x):\n",
    "    if x['Storage'] == 1 or x['StorageLockers'] == 1 or x['StorageRoom'] == 1:\n",
    "        return 1\n",
    "    else:\n",
    "        return 0\n",
    "\n",
    "processed_rental['Storage_ava'] = processed_rental.apply(lambda x: process_storage(x), axis = 1)\n",
    "processed_rental = processed_rental.drop(columns=['Storage', 'StorageLockers','StorageRoom'])"
   ]
  },
  {
   "cell_type": "code",
   "execution_count": 53,
   "metadata": {},
   "outputs": [],
   "source": [
    "def process_washer(x):\n",
    "    if x['Washer'] == 1 or x['WasherDryer'] == 1 :\n",
    "        return 1\n",
    "    else:\n",
    "        return 0\n",
    "\n",
    "processed_rental['Washer_ava'] = processed_rental.apply(lambda x: process_washer(x), axis = 1)\n",
    "processed_rental = processed_rental.drop(columns=['Washer', 'WasherDryer'])"
   ]
  },
  {
   "cell_type": "code",
   "execution_count": 54,
   "metadata": {},
   "outputs": [],
   "source": [
    "def process_pool(x):\n",
    "    if x['Pool'] == 1 or x['SwimmingPool'] == 1 :\n",
    "        return 1\n",
    "    else:\n",
    "        return 0\n",
    "\n",
    "processed_rental['Pool_ava'] = processed_rental.apply(lambda x: process_pool(x), axis = 1)\n",
    "processed_rental = processed_rental.drop(columns=['Pool', 'SwimmingPool'])"
   ]
  },
  {
   "cell_type": "code",
   "execution_count": 55,
   "metadata": {},
   "outputs": [],
   "source": [
    "def process_securedentry(x):\n",
    "    if x['SecureEntry'] == 1 or x['SecuredAccess'] == 1 :\n",
    "        return 1\n",
    "    else:\n",
    "        return 0\n",
    "\n",
    "processed_rental['SecureEntry_ava'] = processed_rental.apply(lambda x: process_securedentry(x), axis = 1)\n",
    "processed_rental = processed_rental.drop(columns=['SecureEntry', 'SecuredAccess'])"
   ]
  },
  {
   "cell_type": "code",
   "execution_count": 56,
   "metadata": {},
   "outputs": [],
   "source": [
    "def process_publictransit(x):\n",
    "    if x['BusRoutes'] == 1 or x['BusStop'] == 1 or x['PublicTransit'] == 1:\n",
    "        return 1\n",
    "    else:\n",
    "        return 0\n",
    "\n",
    "processed_rental['publictransit_ava'] = processed_rental.apply(lambda x: process_publictransit(x), axis = 1)\n",
    "processed_rental = processed_rental.drop(columns=['BusRoutes', 'BusStop', 'PublicTransit'])"
   ]
  },
  {
   "cell_type": "code",
   "execution_count": 57,
   "metadata": {},
   "outputs": [],
   "source": [
    "def process_internet(x):\n",
    "    if (x['Cable'] == 1 or x['CableReady'] == 1 or x['internetavailable'] == 1 or x['InternetReady'] == 1\n",
    "        or x['InternetWiFi'] == 1 or x['Intercom'] ==  1 or x['OtherCableInstalled'] == 1):\n",
    "        return 1\n",
    "    else:\n",
    "        return 0\n",
    "\n",
    "processed_rental['Internet_ava'] = processed_rental.apply(lambda x: process_internet(x), axis = 1)\n",
    "processed_rental = processed_rental.drop(columns=['Cable', 'CableReady'\n",
    "                                                  ,'internetavailable','InternetReady', \n",
    "                                                 'InternetWiFi', 'Intercom', 'OtherCableInstalled'])"
   ]
  },
  {
   "cell_type": "code",
   "execution_count": 58,
   "metadata": {},
   "outputs": [],
   "source": [
    "def process_electricity(x):\n",
    "    if x['ElectricityAvailable'] == 1 or x['ElectricityInstalled'] == 1 or x['HydroElectricity'] == 1 or x['UtilitiesIncluded']==1:\n",
    "        return 1\n",
    "    else:\n",
    "        return 0\n",
    "\n",
    "processed_rental['Electricity_ava'] = processed_rental.apply(lambda x: process_electricity(x), axis = 1)\n",
    "processed_rental = processed_rental.drop(columns=['ElectricityAvailable', 'ElectricityInstalled','HydroElectricity'])"
   ]
  },
  {
   "cell_type": "code",
   "execution_count": 59,
   "metadata": {},
   "outputs": [],
   "source": [
    "def process_water(x):\n",
    "    if x['Water'] == 1 or x['WaterAvailable'] == 1 or x['UtilitiesIncluded']==1:\n",
    "        return 1\n",
    "    else:\n",
    "        return 0\n",
    "\n",
    "processed_rental['Water_ava'] = processed_rental.apply(lambda x: process_water(x), axis = 1)\n",
    "processed_rental = processed_rental.drop(columns=['Water', 'WaterAvailable'])"
   ]
  },
  {
   "cell_type": "code",
   "execution_count": 60,
   "metadata": {},
   "outputs": [],
   "source": [
    "def process_Gas(x):\n",
    "    if x['NaturalGasAvailable'] == 1 or x['NaturalGasInstalled'] == 1 or x['UtilitiesIncluded']==1:\n",
    "        return 1\n",
    "    else:\n",
    "        return 0\n",
    "\n",
    "processed_rental['Gas_ava'] = processed_rental.apply(lambda x: process_Gas(x), axis = 1)\n",
    "processed_rental = processed_rental.drop(columns=['NaturalGasAvailable', 'NaturalGasInstalled'])"
   ]
  },
  {
   "cell_type": "code",
   "execution_count": 61,
   "metadata": {},
   "outputs": [],
   "source": [
    "processed_rental=processed_rental.drop(columns=['UtilitiesIncluded','EnsuiteBathroom','8','Nearby'])     "
   ]
  },
  {
   "cell_type": "code",
   "execution_count": 62,
   "metadata": {},
   "outputs": [],
   "source": [
    "def process_security(x):\n",
    "    if (x['24HOnSiteSecurity'] == 1 or x['24HSurveillance'] == 1 or \n",
    "        x['24hSecurity']==1 or x['AlarmSystem']==1 or x['KeyCardSecurity']==1 \n",
    "        or x['OnsiteStaff'] == 1 or x['VideoSurveillance'] == 1 or x['SecuritySystem'] == 1 \n",
    "        or x['SecurityOnsite'] == 1 or x['SecurityGuard'] == 1 or x['NightPatrol'] == 1\n",
    "       or x['SecurityCameras'] == 1):\n",
    "        return 1\n",
    "    else:\n",
    "        return 0\n",
    "\n",
    "processed_rental['Security_ava'] = processed_rental.apply(lambda x: process_security(x), axis = 1)\n",
    "processed_rental = processed_rental.drop(columns=['24HOnSiteSecurity', '24HSurveillance', '24hSecurity', 'AlarmSystem', 'KeyCardSecurity', 'OnsiteStaff', 'VideoSurveillance', 'SecuritySystem', 'SecurityOnsite', 'SecurityGuard','NightPatrol', 'SecurityCameras'])"
   ]
  },
  {
   "cell_type": "code",
   "execution_count": 63,
   "metadata": {},
   "outputs": [],
   "source": [
    "def process_furnish(x):\n",
    "    if x['Furnished'] == 1 or x['NewlyRenovated'] == 1 :\n",
    "        return 1\n",
    "    else:\n",
    "        return 0\n",
    "\n",
    "processed_rental['Furnish_ava'] = processed_rental.apply(lambda x: process_furnish(x), axis = 1)\n",
    "processed_rental = processed_rental.drop(columns=['Furnished', 'NewlyRenovated'])"
   ]
  },
  {
   "cell_type": "code",
   "execution_count": 64,
   "metadata": {},
   "outputs": [],
   "source": [
    "def process_hottub(x):\n",
    "    if x['Jacuzzi'] == 1 or x['HotTub'] == 1 :\n",
    "        return 1\n",
    "    else:\n",
    "        return 0\n",
    "\n",
    "processed_rental['hottub_ava'] = processed_rental.apply(lambda x: process_hottub(x), axis = 1)\n",
    "processed_rental = processed_rental.drop(columns=['Jacuzzi', 'HotTub'])"
   ]
  },
  {
   "cell_type": "code",
   "execution_count": 65,
   "metadata": {},
   "outputs": [],
   "source": [
    "def process_movie_room(x):\n",
    "    if x['TheatreRoom'] == 1 or x['MovieRoom'] == 1 or x['MediaRoom']==1:\n",
    "        return 1\n",
    "    else:\n",
    "        return 0\n",
    "\n",
    "processed_rental['movieroom_ava'] = processed_rental.apply(lambda x: process_movie_room(x), axis = 1)\n",
    "processed_rental = processed_rental.drop(columns=['TheatreRoom', 'MovieRoom', 'MediaRoom'])"
   ]
  },
  {
   "cell_type": "code",
   "execution_count": 66,
   "metadata": {},
   "outputs": [],
   "source": [
    "def process_vistorparking(x):\n",
    "    if x['ParkingVisitor'] == 1 or x['VisitorParking'] == 1 :\n",
    "        return 1\n",
    "    else:\n",
    "        return 0\n",
    "\n",
    "processed_rental['vistorparking_ava'] = processed_rental.apply(lambda x: process_vistorparking(x), axis = 1)\n",
    "processed_rental = processed_rental.drop(columns=['ParkingVisitor', 'VisitorParking'])"
   ]
  },
  {
   "cell_type": "code",
   "execution_count": 67,
   "metadata": {},
   "outputs": [],
   "source": [
    "def process_heating(x):\n",
    "    if x['GasHeating'] == 1 or x['Heating'] == 1 or x['RadiantHeat']==1:\n",
    "        return 1\n",
    "    else:\n",
    "        return 0\n",
    "\n",
    "processed_rental['heating_ava'] = processed_rental.apply(lambda x: process_heating(x), axis = 1)\n",
    "processed_rental = processed_rental.drop(columns=['GasHeating', 'Heating', 'RadiantHeat'])"
   ]
  },
  {
   "cell_type": "code",
   "execution_count": 68,
   "metadata": {},
   "outputs": [],
   "source": [
    "def process_parking(x):\n",
    "    if x['Parking'] == 1 or x['ParkingAssigned'] == 1 or x['OutdoorParking']==1:\n",
    "        return 1\n",
    "    else:\n",
    "        return 0\n",
    "\n",
    "processed_rental['parking_ava'] = processed_rental.apply(lambda x: process_parking(x), axis = 1)\n",
    "processed_rental = processed_rental.drop(columns=['Parking', 'ParkingAssigned', 'OutdoorParking'])"
   ]
  },
  {
   "cell_type": "code",
   "execution_count": 69,
   "metadata": {},
   "outputs": [],
   "source": [
    "def process_garage(x):\n",
    "    if x['AttachedParking'] == 1 or x['Garage'] == 1 or x['DetachedGarage']==1:\n",
    "        return 1\n",
    "    else:\n",
    "        return 0\n",
    "\n",
    "processed_rental['garage_ava'] = processed_rental.apply(lambda x: process_garage(x), axis = 1)\n",
    "processed_rental = processed_rental.drop(columns=['AttachedParking', 'Garage', 'DetachedGarage'])"
   ]
  },
  {
   "cell_type": "code",
   "execution_count": 70,
   "metadata": {},
   "outputs": [],
   "source": [
    "def process_stove(x):\n",
    "    if x['ovenincluded'] == 1 or x['Stove'] == 1 :\n",
    "        return 1\n",
    "    else:\n",
    "        return 0\n",
    "\n",
    "processed_rental['stove_ava'] = processed_rental.apply(lambda x: process_stove(x), axis = 1)\n",
    "processed_rental = processed_rental.drop(columns=['ovenincluded', 'Stove'])"
   ]
  },
  {
   "cell_type": "code",
   "execution_count": 71,
   "metadata": {},
   "outputs": [],
   "source": [
    "def process_smoking(x):\n",
    "    if x['SmokingPermitted'] == 1 or x['smokerfriendly'] == 1 :\n",
    "        return 1\n",
    "    else:\n",
    "        return 0\n",
    "\n",
    "processed_rental['smoking_ava'] = processed_rental.apply(lambda x: process_smoking(x), axis = 1)\n",
    "processed_rental = processed_rental.drop(columns=['SmokingPermitted', 'smokerfriendly'])"
   ]
  },
  {
   "cell_type": "code",
   "execution_count": 72,
   "metadata": {},
   "outputs": [],
   "source": [
    "def process_partyroom(x):\n",
    "    if x['PartyRoom'] == 1 or x['SocialRoom'] == 1 or x['BilliardsRoom']==1 or x['GameRoom'] == 1:\n",
    "        return 1\n",
    "    else:\n",
    "        return 0\n",
    "\n",
    "processed_rental['partyroom_ava'] = processed_rental.apply(lambda x: process_partyroom(x), axis = 1)\n",
    "processed_rental = processed_rental.drop(columns=['PartyRoom', 'SocialRoom', 'BilliardsRoom','GameRoom'])"
   ]
  },
  {
   "cell_type": "code",
   "execution_count": 73,
   "metadata": {},
   "outputs": [],
   "source": [
    "def process_kitchen(x):\n",
    "    if x['FullyEquippedKitchen'] == 1 or x['UpgradedKitchen'] == 1 :\n",
    "        return 1\n",
    "    else:\n",
    "        return 0\n",
    "\n",
    "processed_rental['fancykitchen_ava'] = processed_rental.apply(lambda x: process_kitchen(x), axis = 1)\n",
    "processed_rental = processed_rental.drop(columns=['FullyEquippedKitchen', 'UpgradedKitchen'])"
   ]
  },
  {
   "cell_type": "code",
   "execution_count": 74,
   "metadata": {},
   "outputs": [],
   "source": [
    "#processed_rental['Playground'].equals(processed_rental['OutdoorPlayArea'])"
   ]
  },
  {
   "cell_type": "code",
   "execution_count": 75,
   "metadata": {},
   "outputs": [],
   "source": [
    "#sum(processed_rental[processed_rental['Playground'] != processed_rental['OutdoorPlayArea']]['Playground']) "
   ]
  },
  {
   "cell_type": "code",
   "execution_count": 76,
   "metadata": {
    "scrolled": false
   },
   "outputs": [
    {
     "data": {
      "text/plain": [
       "['price',\n",
       " 'url',\n",
       " 'room_type',\n",
       " 'bedroom_num',\n",
       " 'bathroom_num',\n",
       " 'name',\n",
       " 'latitude',\n",
       " 'longitude',\n",
       " 'location',\n",
       " '24HMaintenance',\n",
       " '24hEmergency',\n",
       " 'AirConditioning',\n",
       " 'Atm',\n",
       " 'Backyard',\n",
       " 'Bank',\n",
       " 'Bars',\n",
       " 'BasketballCourt',\n",
       " 'Blinds',\n",
       " 'BuzzerEntry',\n",
       " 'Cafe',\n",
       " 'CarWash',\n",
       " 'CentralAirConditioning',\n",
       " 'CentralVacuum',\n",
       " 'Church',\n",
       " 'CityView',\n",
       " 'CommunityGarden',\n",
       " 'Concierge',\n",
       " 'ControlledAccess',\n",
       " 'Cooktop',\n",
       " 'Courtyard',\n",
       " 'Daycare',\n",
       " 'Deck',\n",
       " 'DogPark',\n",
       " 'Dryer',\n",
       " 'ElectricVehicleCharger',\n",
       " 'FamilyFriendly',\n",
       " 'Fireplace',\n",
       " 'FlooringCarpeted',\n",
       " 'FlooringCeramic',\n",
       " 'FlooringHardwood',\n",
       " 'FlooringLaminateHardwood',\n",
       " 'FlooringLaminate',\n",
       " 'FlooringMixedOptions',\n",
       " 'FlooringTile',\n",
       " 'FlooringVinyl',\n",
       " 'FlooringWood',\n",
       " 'FreshlyPainted',\n",
       " 'Garburator',\n",
       " 'Garden',\n",
       " 'GasStation',\n",
       " 'GolfCourse',\n",
       " 'GraniteCountertops',\n",
       " 'GroceryStore',\n",
       " 'GuestSuite',\n",
       " 'HarwoodFloors',\n",
       " 'Highway',\n",
       " 'HoodFan',\n",
       " 'Hookups',\n",
       " 'Hospital',\n",
       " 'IndividualThermostats',\n",
       " 'Island',\n",
       " 'KeylessEntry',\n",
       " 'LargeWindows',\n",
       " 'LockerRoom',\n",
       " 'Marina',\n",
       " 'Microwave',\n",
       " 'MovieTheater',\n",
       " 'NewAppliances',\n",
       " 'OnlinePaymentsAvailable',\n",
       " 'OpenConceptDesign',\n",
       " 'Other',\n",
       " 'OutdoorTerrace',\n",
       " 'ParkView',\n",
       " 'Parks',\n",
       " 'Patio',\n",
       " 'PetFriendly',\n",
       " 'PoolHeated',\n",
       " 'PoolIndoor',\n",
       " 'PoolOutdoor',\n",
       " 'PoolPrivate',\n",
       " 'PrivateEntry',\n",
       " 'PrivateYard',\n",
       " 'PublicLibrary',\n",
       " 'Recycling',\n",
       " 'ResidentInsurance',\n",
       " 'Restaurants',\n",
       " 'RooftopDeck',\n",
       " 'RooftopGarden',\n",
       " 'RooftopLounge',\n",
       " 'RunningPath',\n",
       " 'SatelliteTV',\n",
       " 'Sauna',\n",
       " 'SharedYard',\n",
       " 'Skiing',\n",
       " 'StainlessSteelAppliances',\n",
       " 'Sundeck',\n",
       " 'TennisCourt',\n",
       " 'Terrace',\n",
       " 'WalkinCloset',\n",
       " 'WallUnit',\n",
       " 'WaterfrontView',\n",
       " 'WheelchairAccess',\n",
       " 'WindowAirConditioner',\n",
       " 'WindowCoverings',\n",
       " 'WineFridge',\n",
       " 'meetingroom',\n",
       " 'HasDen',\n",
       " 'DishWasher_ava',\n",
       " 'Recreation_ava',\n",
       " 'Playground_ava',\n",
       " 'fridge_ava',\n",
       " 'Shopping_ava',\n",
       " 'School_ava',\n",
       " 'Balcony_ava',\n",
       " 'Bbq_ava',\n",
       " 'Biketrail_ava',\n",
       " 'Elevator_ava',\n",
       " 'InSuiteLaundry_ava',\n",
       " 'LaundryRoom_ava',\n",
       " 'Parkingindoor_ava',\n",
       " 'RooftopPool_ava',\n",
       " 'Manager_ava',\n",
       " 'Storage_ava',\n",
       " 'Washer_ava',\n",
       " 'Pool_ava',\n",
       " 'SecureEntry_ava',\n",
       " 'publictransit_ava',\n",
       " 'Internet_ava',\n",
       " 'Electricity_ava',\n",
       " 'Water_ava',\n",
       " 'Gas_ava',\n",
       " 'Security_ava',\n",
       " 'Furnish_ava',\n",
       " 'hottub_ava',\n",
       " 'movieroom_ava',\n",
       " 'vistorparking_ava',\n",
       " 'heating_ava',\n",
       " 'parking_ava',\n",
       " 'garage_ava',\n",
       " 'stove_ava',\n",
       " 'smoking_ava',\n",
       " 'partyroom_ava',\n",
       " 'fancykitchen_ava']"
      ]
     },
     "execution_count": 76,
     "metadata": {},
     "output_type": "execute_result"
    }
   ],
   "source": [
    "list(processed_rental.columns)"
   ]
  },
  {
   "cell_type": "code",
   "execution_count": 77,
   "metadata": {},
   "outputs": [
    {
     "data": {
      "text/plain": [
       "143"
      ]
     },
     "execution_count": 77,
     "metadata": {},
     "output_type": "execute_result"
    }
   ],
   "source": [
    "len(processed_rental.columns)"
   ]
  },
  {
   "cell_type": "code",
   "execution_count": null,
   "metadata": {},
   "outputs": [],
   "source": []
  },
  {
   "cell_type": "code",
   "execution_count": 80,
   "metadata": {},
   "outputs": [],
   "source": [
    "#Drop room_type, url, name column\n",
    "final_df = processed_rental.drop(columns=['room_type', 'url', 'name'])"
   ]
  },
  {
   "cell_type": "code",
   "execution_count": 81,
   "metadata": {},
   "outputs": [],
   "source": [
    "final_df.to_csv(\"Final_rental_big.csv\", index = False)"
   ]
  },
  {
   "cell_type": "code",
   "execution_count": null,
   "metadata": {},
   "outputs": [],
   "source": []
  }
 ],
 "metadata": {
  "kernelspec": {
   "display_name": "Python 3",
   "language": "python",
   "name": "python3"
  },
  "language_info": {
   "codemirror_mode": {
    "name": "ipython",
    "version": 3
   },
   "file_extension": ".py",
   "mimetype": "text/x-python",
   "name": "python",
   "nbconvert_exporter": "python",
   "pygments_lexer": "ipython3",
   "version": "3.7.3"
  }
 },
 "nbformat": 4,
 "nbformat_minor": 2
}
